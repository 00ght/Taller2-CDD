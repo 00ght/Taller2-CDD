{
 "cells": [
  {
   "cell_type": "code",
   "execution_count": 4,
   "metadata": {},
   "outputs": [
    {
     "name": "stdout",
     "output_type": "stream",
     "text": [
      "Pérdida en el conjunto de prueba: 0.6929\n",
      "Precisión en el conjunto de prueba: 0.5348\n"
     ]
    }
   ],
   "source": [
    "import pandas as pd\n",
    "from sklearn.model_selection import train_test_split\n",
    "from tensorflow.keras.models import Sequential\n",
    "from tensorflow.keras.layers import Dense, Input\n",
    "from sklearn.tree import DecisionTreeClassifier\n",
    "from sklearn.metrics import accuracy_score\n",
    "from sklearn.model_selection import KFold\n",
    "import numpy as np\n",
    "\n",
    "#Cargar los datos desde el archivo CSV\n",
    "archivo = 'Taller_2_Titulacion_DatosTaller2.csv'\n",
    "datos = pd.read_csv(archivo, encoding='latin-1', delimiter=';')\n",
    "\n",
    "#Separar las características y la variable objetivo\n",
    "X = datos.iloc[:, :-1]\n",
    "y = datos.iloc[:, -1]\n",
    "\n",
    "#Eliminar la columna \"Id\"\n",
    "X = X.drop('Id', axis=1)\n",
    "\n",
    "#Convertir variables categóricas en dummies\n",
    "X = pd.get_dummies(X)\n",
    "\n",
    "#Convertir las etiquetas categóricas en valores numéricos\n",
    "y = pd.get_dummies(y)\n",
    "\n",
    "#Dividir los datos en conjuntos de entrenamiento y prueba\n",
    "X_train, X_test, y_train, y_test = train_test_split(X, y, test_size=0.2, random_state=42)\n",
    "\n",
    "'''\n",
    "Mostrar las primeras filas de los conjuntos de datos\n",
    "print(\"Conjunto de entrenamiento:\")\n",
    "display(X_train.head())\n",
    "display(y_train.head())\n",
    "\n",
    "print(\"\\nConjunto de prueba:\")\n",
    "display(X_test.head())\n",
    "display(y_test.head())\n",
    "\n",
    "Crear el modelo de red neuronal\n",
    "'''\n",
    "\n",
    "model = Sequential()\n",
    "model.add(Input(shape=(X_train.shape[1],)))  # Capa de entrada\n",
    "model.add(Dense(32, activation='relu'))\n",
    "model.add(Dense(16, activation='relu'))\n",
    "model.add(Dense(2, activation='softmax'))  # Capa de salida con dos neuronas para clasificación binaria con función softmax\n",
    "\n",
    "#Compilar el modelo\n",
    "model.compile(optimizer='adam', loss='binary_crossentropy', metrics=['accuracy'])\n",
    "\n",
    "#Entrenar el modelo\n",
    "model.fit(X_train, y_train, epochs=10, batch_size=32, verbose=0)\n",
    "\n",
    "#Evaluar el modelo\n",
    "loss, accuracy = model.evaluate(X_test, y_test, verbose=0)\n",
    "\n",
    "print(f'Pérdida en el conjunto de prueba: {loss:.4f}')\n",
    "print(f'Precisión en el conjunto de prueba: {accuracy:.4f}')"
   ]
  }
 ],
 "metadata": {
  "kernelspec": {
   "display_name": "Python 3",
   "language": "python",
   "name": "python3"
  },
  "language_info": {
   "codemirror_mode": {
    "name": "ipython",
    "version": 3
   },
   "file_extension": ".py",
   "mimetype": "text/x-python",
   "name": "python",
   "nbconvert_exporter": "python",
   "pygments_lexer": "ipython3",
   "version": "3.12.2"
  }
 },
 "nbformat": 4,
 "nbformat_minor": 2
}
