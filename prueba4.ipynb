{
 "cells": [
  {
   "cell_type": "markdown",
   "metadata": {},
   "source": [
    "# Actividad 1"
   ]
  },
  {
   "cell_type": "code",
   "execution_count": 62,
   "metadata": {},
   "outputs": [
    {
     "name": "stdout",
     "output_type": "stream",
     "text": [
      "Valores faltantes por columna:\n",
      "Id                                                     0\n",
      "MAT_1SEM_PROM                                          0\n",
      "FIS_1SEM_PROM                                          0\n",
      "ING_1SEM_PROM                                          0\n",
      "ACTF_1SEM_A                                            0\n",
      "OTRANS_1SEM_A                                          0\n",
      "OTRANS_1SEM_R                                          0\n",
      "OTRANS_1SEM_PROM                                       0\n",
      "ESP_1SEM_A                                             0\n",
      "ESP_1SEM_R                                             0\n",
      "ESP_1SEM_PROM                                          0\n",
      "INS_1SEM                                               0\n",
      "PROM_1SEM                                              0\n",
      "MAT_2SEM_PROM                                          0\n",
      "FIS_2SEM_PROM                                          0\n",
      "ING_2SEM_PROM                                          0\n",
      "ACTF_2SEM_A                                            0\n",
      "OTRANS_2SEM_A                                          0\n",
      "OTRANS_2SEM_R                                          0\n",
      "OTRANS_2SEM_PROM                                       0\n",
      "ESP_2SEM_A                                             0\n",
      "ESP_2SEM_R                                             0\n",
      "ESP_2SEM_PROM                                          0\n",
      "INS_2SEM                                               0\n",
      "PROM_2SEM                                              0\n",
      "INSC_AnO                                               0\n",
      "PROM_AnO                                               0\n",
      "GENERO                                                 0\n",
      "NOM_CARRERA                                            0\n",
      "TIPO_CARRERA                                           0\n",
      "nombre_nacionalidad                                    0\n",
      "nombre_comuna_EM                                       0\n",
      "nombre_provincia_EM                                    0\n",
      "nombre_region_EM                                       0\n",
      "nombre_grupo_dependencia_EM                            0\n",
      "descripcion_rama_educacional_EM                        0\n",
      "numero_estado_civil                                    0\n",
      "descripcion_trabajo_remunerado                         0\n",
      "numero_horario_trabajo                                 0\n",
      "descripcion_proseguir_estudios                         0\n",
      "descripcion_fuente_financiamiento_estudio_superior     0\n",
      "descripcion_fuente_financiamiento_estudio_superior2    0\n",
      "inferior_ingreso_bruto_fam                             0\n",
      "superior_ingreso_bruto_fam                             0\n",
      "nombre_cobertura_salud                                 0\n",
      "descripcion_viven_padres                               0\n",
      "descripcion_situacion_ocupacional_padre                0\n",
      "descripcion_situacion_ocupacional_madre                0\n",
      "horas_promedio_trabajo                                 0\n",
      "cantidad_personas_grupo_familiar                       0\n",
      "cuantos_estudian_grupo_superior                        0\n",
      "ptje_nem                                               0\n",
      "ptje_leng                                              0\n",
      "ptje_mate                                              0\n",
      "ptje_hycs                                              0\n",
      "ptje_cien                                              0\n",
      "Rotulo_Titulo                                          0\n",
      "dtype: int64\n",
      "Valores únicos en 'Rotulo_Titulo': [1 0]\n",
      "Preprocesamiento completo y datos guardados en 'datos_preprocesados.csv'.\n"
     ]
    }
   ],
   "source": [
    "import pandas as pd\n",
    "from sklearn.preprocessing import StandardScaler\n",
    "\n",
    "# Cargar el conjunto de datos\n",
    "archivo = 'Taller_2_Titulacion_DatosTaller.csv'\n",
    "datos = pd.read_csv(archivo, encoding='latin-1', delimiter=';')\n",
    "\n",
    "# Ver el número de valores faltantes por columna\n",
    "valores_faltantes = datos.isnull().sum()\n",
    "print(\"Valores faltantes por columna:\")\n",
    "print(valores_faltantes)\n",
    "\n",
    "# Renombrar la columna 'Rotulo_Titulado' a 'Rotulo_Titulo' si es necesario\n",
    "if 'Rotulo_Titulado' in datos.columns:\n",
    "    datos = datos.rename(columns={'Rotulo_Titulado': 'Rotulo_Titulo'})\n",
    "\n",
    "# Verificar si la columna 'Rotulo_Titulo' existe\n",
    "if 'Rotulo_Titulo' not in datos.columns:\n",
    "    raise ValueError(\"La columna 'Rotulo_Titulo' no se encuentra en el conjunto de datos.\")\n",
    "\n",
    "# Codificar la columna objetivo (si es necesario)\n",
    "datos['Rotulo_Titulo'] = datos['Rotulo_Titulo'].apply(lambda x: 1 if x == 'SI' else 0)\n",
    "\n",
    "# Verificar los valores únicos en la columna objetivo\n",
    "print(\"Valores únicos en 'Rotulo_Titulo':\", datos['Rotulo_Titulo'].unique())\n",
    "\n",
    "# Identificar las columnas categóricas\n",
    "columnas_categoricas = datos.select_dtypes(include=['object']).columns\n",
    "\n",
    "# Codificar las variables categóricas\n",
    "datos_codificados = pd.get_dummies(datos, columns=columnas_categoricas, drop_first=True)\n",
    "\n",
    "# Normalizar las características numéricas\n",
    "columnas_numericas = datos_codificados.select_dtypes(include=['float64', 'int64']).columns\n",
    "escalador = StandardScaler()\n",
    "datos_codificados[columnas_numericas] = escalador.fit_transform(datos_codificados[columnas_numericas])\n",
    "\n",
    "# Guardar los datos preprocesados para la siguiente actividad\n",
    "datos_codificados.to_csv('datos_preprocesados.csv', index=False)\n",
    "\n",
    "print(\"Preprocesamiento completo y datos guardados en 'datos_preprocesados.csv'.\")"
   ]
  },
  {
   "cell_type": "markdown",
   "metadata": {},
   "source": [
    "# Actividad 2"
   ]
  },
  {
   "cell_type": "code",
   "execution_count": 36,
   "metadata": {},
   "outputs": [
    {
     "name": "stdout",
     "output_type": "stream",
     "text": [
      "Tipos únicos en 'Rotulo_Titulo': [ 0 -1]\n",
      "Pliegue 1: Tamaño de entrenamiento = 2414, Tamaño de validación = 604\n",
      "Pliegue 2: Tamaño de entrenamiento = 2414, Tamaño de validación = 604\n",
      "Pliegue 3: Tamaño de entrenamiento = 2414, Tamaño de validación = 604\n",
      "Pliegue 4: Tamaño de entrenamiento = 2415, Tamaño de validación = 603\n",
      "Pliegue 5: Tamaño de entrenamiento = 2415, Tamaño de validación = 603\n"
     ]
    }
   ],
   "source": [
    "import pandas as pd\n",
    "from sklearn.model_selection import StratifiedKFold\n",
    "\n",
    "# Cargar el conjunto de datos preprocesado\n",
    "archivo = 'datos_preprocesados.csv'\n",
    "datos = pd.read_csv(archivo)\n",
    "\n",
    "# Verificar y corregir la columna objetivo si es necesario\n",
    "if datos['Rotulo_Titulo'].dtype == object:\n",
    "    datos['Rotulo_Titulo'] = datos['Rotulo_Titulo'].apply(lambda x: 1 if x == 'SI' else 0)\n",
    "\n",
    "# Asegurarse de que 'Rotulo_Titulo' sea de tipo entero\n",
    "datos['Rotulo_Titulo'] = datos['Rotulo_Titulo'].astype(int)\n",
    "\n",
    "# Separar características y etiquetas\n",
    "X = datos.drop('Rotulo_Titulo', axis=1)\n",
    "y = datos['Rotulo_Titulo']\n",
    "\n",
    "# Verificar nuevamente el tipo de y después de la codificación\n",
    "print(\"Tipos únicos en 'Rotulo_Titulo':\", y.unique())\n",
    "\n",
    "# Definir el número de pliegues para la validación cruzada\n",
    "num_pliegues = 5\n",
    "validacion_cruzada = StratifiedKFold(n_splits=num_pliegues, shuffle=True, random_state=42)\n",
    "\n",
    "# Iterar sobre los pliegues\n",
    "for i, (train_index, val_index) in enumerate(validacion_cruzada.split(X, y)):\n",
    "    X_train, X_val = X.iloc[train_index], X.iloc[val_index]\n",
    "    y_train, y_val = y.iloc[train_index], y.iloc[val_index]\n",
    "    print(f\"Pliegue {i+1}: Tamaño de entrenamiento = {len(train_index)}, Tamaño de validación = {len(val_index)}\")\n"
   ]
  },
  {
   "cell_type": "markdown",
   "metadata": {},
   "source": [
    "# Actividad 3"
   ]
  },
  {
   "cell_type": "code",
   "execution_count": 49,
   "metadata": {},
   "outputs": [
    {
     "name": "stdout",
     "output_type": "stream",
     "text": [
      "Fitting 5 folds for each of 24 candidates, totalling 120 fits\n"
     ]
    },
    {
     "ename": "KeyboardInterrupt",
     "evalue": "",
     "output_type": "error",
     "traceback": [
      "\u001b[1;31m---------------------------------------------------------------------------\u001b[0m",
      "\u001b[1;31mKeyboardInterrupt\u001b[0m                         Traceback (most recent call last)",
      "Cell \u001b[1;32mIn[49], line 33\u001b[0m\n\u001b[0;32m     31\u001b[0m \u001b[38;5;66;03m# Ejecutar la búsqueda de hiperparámetros para SVM\u001b[39;00m\n\u001b[0;32m     32\u001b[0m grid_search_svm \u001b[38;5;241m=\u001b[39m GridSearchCV(modelo_svm, parametros_svm, cv\u001b[38;5;241m=\u001b[39m\u001b[38;5;241m5\u001b[39m, verbose\u001b[38;5;241m=\u001b[39m\u001b[38;5;241m1\u001b[39m, n_jobs\u001b[38;5;241m=\u001b[39m\u001b[38;5;241m-\u001b[39m\u001b[38;5;241m1\u001b[39m)\n\u001b[1;32m---> 33\u001b[0m \u001b[43mgrid_search_svm\u001b[49m\u001b[38;5;241;43m.\u001b[39;49m\u001b[43mfit\u001b[49m\u001b[43m(\u001b[49m\u001b[43mX\u001b[49m\u001b[43m,\u001b[49m\u001b[43m \u001b[49m\u001b[43my\u001b[49m\u001b[43m)\u001b[49m\n\u001b[0;32m     35\u001b[0m \u001b[38;5;66;03m# Mostrar resultados\u001b[39;00m\n\u001b[0;32m     36\u001b[0m \u001b[38;5;28mprint\u001b[39m(\u001b[38;5;124m\"\u001b[39m\u001b[38;5;124mMejor configuración encontrada para SVM:\u001b[39m\u001b[38;5;124m\"\u001b[39m)\n",
      "File \u001b[1;32mc:\\Users\\Vania\\AppData\\Local\\Programs\\Python\\Python312\\Lib\\site-packages\\sklearn\\base.py:1473\u001b[0m, in \u001b[0;36m_fit_context.<locals>.decorator.<locals>.wrapper\u001b[1;34m(estimator, *args, **kwargs)\u001b[0m\n\u001b[0;32m   1466\u001b[0m     estimator\u001b[38;5;241m.\u001b[39m_validate_params()\n\u001b[0;32m   1468\u001b[0m \u001b[38;5;28;01mwith\u001b[39;00m config_context(\n\u001b[0;32m   1469\u001b[0m     skip_parameter_validation\u001b[38;5;241m=\u001b[39m(\n\u001b[0;32m   1470\u001b[0m         prefer_skip_nested_validation \u001b[38;5;129;01mor\u001b[39;00m global_skip_validation\n\u001b[0;32m   1471\u001b[0m     )\n\u001b[0;32m   1472\u001b[0m ):\n\u001b[1;32m-> 1473\u001b[0m     \u001b[38;5;28;01mreturn\u001b[39;00m \u001b[43mfit_method\u001b[49m\u001b[43m(\u001b[49m\u001b[43mestimator\u001b[49m\u001b[43m,\u001b[49m\u001b[43m \u001b[49m\u001b[38;5;241;43m*\u001b[39;49m\u001b[43margs\u001b[49m\u001b[43m,\u001b[49m\u001b[43m \u001b[49m\u001b[38;5;241;43m*\u001b[39;49m\u001b[38;5;241;43m*\u001b[39;49m\u001b[43mkwargs\u001b[49m\u001b[43m)\u001b[49m\n",
      "File \u001b[1;32mc:\\Users\\Vania\\AppData\\Local\\Programs\\Python\\Python312\\Lib\\site-packages\\sklearn\\model_selection\\_search.py:968\u001b[0m, in \u001b[0;36mBaseSearchCV.fit\u001b[1;34m(self, X, y, **params)\u001b[0m\n\u001b[0;32m    962\u001b[0m     results \u001b[38;5;241m=\u001b[39m \u001b[38;5;28mself\u001b[39m\u001b[38;5;241m.\u001b[39m_format_results(\n\u001b[0;32m    963\u001b[0m         all_candidate_params, n_splits, all_out, all_more_results\n\u001b[0;32m    964\u001b[0m     )\n\u001b[0;32m    966\u001b[0m     \u001b[38;5;28;01mreturn\u001b[39;00m results\n\u001b[1;32m--> 968\u001b[0m \u001b[38;5;28;43mself\u001b[39;49m\u001b[38;5;241;43m.\u001b[39;49m\u001b[43m_run_search\u001b[49m\u001b[43m(\u001b[49m\u001b[43mevaluate_candidates\u001b[49m\u001b[43m)\u001b[49m\n\u001b[0;32m    970\u001b[0m \u001b[38;5;66;03m# multimetric is determined here because in the case of a callable\u001b[39;00m\n\u001b[0;32m    971\u001b[0m \u001b[38;5;66;03m# self.scoring the return type is only known after calling\u001b[39;00m\n\u001b[0;32m    972\u001b[0m first_test_score \u001b[38;5;241m=\u001b[39m all_out[\u001b[38;5;241m0\u001b[39m][\u001b[38;5;124m\"\u001b[39m\u001b[38;5;124mtest_scores\u001b[39m\u001b[38;5;124m\"\u001b[39m]\n",
      "File \u001b[1;32mc:\\Users\\Vania\\AppData\\Local\\Programs\\Python\\Python312\\Lib\\site-packages\\sklearn\\model_selection\\_search.py:1543\u001b[0m, in \u001b[0;36mGridSearchCV._run_search\u001b[1;34m(self, evaluate_candidates)\u001b[0m\n\u001b[0;32m   1541\u001b[0m \u001b[38;5;28;01mdef\u001b[39;00m \u001b[38;5;21m_run_search\u001b[39m(\u001b[38;5;28mself\u001b[39m, evaluate_candidates):\n\u001b[0;32m   1542\u001b[0m \u001b[38;5;250m    \u001b[39m\u001b[38;5;124;03m\"\"\"Search all candidates in param_grid\"\"\"\u001b[39;00m\n\u001b[1;32m-> 1543\u001b[0m     \u001b[43mevaluate_candidates\u001b[49m\u001b[43m(\u001b[49m\u001b[43mParameterGrid\u001b[49m\u001b[43m(\u001b[49m\u001b[38;5;28;43mself\u001b[39;49m\u001b[38;5;241;43m.\u001b[39;49m\u001b[43mparam_grid\u001b[49m\u001b[43m)\u001b[49m\u001b[43m)\u001b[49m\n",
      "File \u001b[1;32mc:\\Users\\Vania\\AppData\\Local\\Programs\\Python\\Python312\\Lib\\site-packages\\sklearn\\model_selection\\_search.py:914\u001b[0m, in \u001b[0;36mBaseSearchCV.fit.<locals>.evaluate_candidates\u001b[1;34m(candidate_params, cv, more_results)\u001b[0m\n\u001b[0;32m    906\u001b[0m \u001b[38;5;28;01mif\u001b[39;00m \u001b[38;5;28mself\u001b[39m\u001b[38;5;241m.\u001b[39mverbose \u001b[38;5;241m>\u001b[39m \u001b[38;5;241m0\u001b[39m:\n\u001b[0;32m    907\u001b[0m     \u001b[38;5;28mprint\u001b[39m(\n\u001b[0;32m    908\u001b[0m         \u001b[38;5;124m\"\u001b[39m\u001b[38;5;124mFitting \u001b[39m\u001b[38;5;132;01m{0}\u001b[39;00m\u001b[38;5;124m folds for each of \u001b[39m\u001b[38;5;132;01m{1}\u001b[39;00m\u001b[38;5;124m candidates,\u001b[39m\u001b[38;5;124m\"\u001b[39m\n\u001b[0;32m    909\u001b[0m         \u001b[38;5;124m\"\u001b[39m\u001b[38;5;124m totalling \u001b[39m\u001b[38;5;132;01m{2}\u001b[39;00m\u001b[38;5;124m fits\u001b[39m\u001b[38;5;124m\"\u001b[39m\u001b[38;5;241m.\u001b[39mformat(\n\u001b[0;32m    910\u001b[0m             n_splits, n_candidates, n_candidates \u001b[38;5;241m*\u001b[39m n_splits\n\u001b[0;32m    911\u001b[0m         )\n\u001b[0;32m    912\u001b[0m     )\n\u001b[1;32m--> 914\u001b[0m out \u001b[38;5;241m=\u001b[39m \u001b[43mparallel\u001b[49m\u001b[43m(\u001b[49m\n\u001b[0;32m    915\u001b[0m \u001b[43m    \u001b[49m\u001b[43mdelayed\u001b[49m\u001b[43m(\u001b[49m\u001b[43m_fit_and_score\u001b[49m\u001b[43m)\u001b[49m\u001b[43m(\u001b[49m\n\u001b[0;32m    916\u001b[0m \u001b[43m        \u001b[49m\u001b[43mclone\u001b[49m\u001b[43m(\u001b[49m\u001b[43mbase_estimator\u001b[49m\u001b[43m)\u001b[49m\u001b[43m,\u001b[49m\n\u001b[0;32m    917\u001b[0m \u001b[43m        \u001b[49m\u001b[43mX\u001b[49m\u001b[43m,\u001b[49m\n\u001b[0;32m    918\u001b[0m \u001b[43m        \u001b[49m\u001b[43my\u001b[49m\u001b[43m,\u001b[49m\n\u001b[0;32m    919\u001b[0m \u001b[43m        \u001b[49m\u001b[43mtrain\u001b[49m\u001b[38;5;241;43m=\u001b[39;49m\u001b[43mtrain\u001b[49m\u001b[43m,\u001b[49m\n\u001b[0;32m    920\u001b[0m \u001b[43m        \u001b[49m\u001b[43mtest\u001b[49m\u001b[38;5;241;43m=\u001b[39;49m\u001b[43mtest\u001b[49m\u001b[43m,\u001b[49m\n\u001b[0;32m    921\u001b[0m \u001b[43m        \u001b[49m\u001b[43mparameters\u001b[49m\u001b[38;5;241;43m=\u001b[39;49m\u001b[43mparameters\u001b[49m\u001b[43m,\u001b[49m\n\u001b[0;32m    922\u001b[0m \u001b[43m        \u001b[49m\u001b[43msplit_progress\u001b[49m\u001b[38;5;241;43m=\u001b[39;49m\u001b[43m(\u001b[49m\u001b[43msplit_idx\u001b[49m\u001b[43m,\u001b[49m\u001b[43m \u001b[49m\u001b[43mn_splits\u001b[49m\u001b[43m)\u001b[49m\u001b[43m,\u001b[49m\n\u001b[0;32m    923\u001b[0m \u001b[43m        \u001b[49m\u001b[43mcandidate_progress\u001b[49m\u001b[38;5;241;43m=\u001b[39;49m\u001b[43m(\u001b[49m\u001b[43mcand_idx\u001b[49m\u001b[43m,\u001b[49m\u001b[43m \u001b[49m\u001b[43mn_candidates\u001b[49m\u001b[43m)\u001b[49m\u001b[43m,\u001b[49m\n\u001b[0;32m    924\u001b[0m \u001b[43m        \u001b[49m\u001b[38;5;241;43m*\u001b[39;49m\u001b[38;5;241;43m*\u001b[39;49m\u001b[43mfit_and_score_kwargs\u001b[49m\u001b[43m,\u001b[49m\n\u001b[0;32m    925\u001b[0m \u001b[43m    \u001b[49m\u001b[43m)\u001b[49m\n\u001b[0;32m    926\u001b[0m \u001b[43m    \u001b[49m\u001b[38;5;28;43;01mfor\u001b[39;49;00m\u001b[43m \u001b[49m\u001b[43m(\u001b[49m\u001b[43mcand_idx\u001b[49m\u001b[43m,\u001b[49m\u001b[43m \u001b[49m\u001b[43mparameters\u001b[49m\u001b[43m)\u001b[49m\u001b[43m,\u001b[49m\u001b[43m \u001b[49m\u001b[43m(\u001b[49m\u001b[43msplit_idx\u001b[49m\u001b[43m,\u001b[49m\u001b[43m \u001b[49m\u001b[43m(\u001b[49m\u001b[43mtrain\u001b[49m\u001b[43m,\u001b[49m\u001b[43m \u001b[49m\u001b[43mtest\u001b[49m\u001b[43m)\u001b[49m\u001b[43m)\u001b[49m\u001b[43m \u001b[49m\u001b[38;5;129;43;01min\u001b[39;49;00m\u001b[43m \u001b[49m\u001b[43mproduct\u001b[49m\u001b[43m(\u001b[49m\n\u001b[0;32m    927\u001b[0m \u001b[43m        \u001b[49m\u001b[38;5;28;43menumerate\u001b[39;49m\u001b[43m(\u001b[49m\u001b[43mcandidate_params\u001b[49m\u001b[43m)\u001b[49m\u001b[43m,\u001b[49m\n\u001b[0;32m    928\u001b[0m \u001b[43m        \u001b[49m\u001b[38;5;28;43menumerate\u001b[39;49m\u001b[43m(\u001b[49m\u001b[43mcv\u001b[49m\u001b[38;5;241;43m.\u001b[39;49m\u001b[43msplit\u001b[49m\u001b[43m(\u001b[49m\u001b[43mX\u001b[49m\u001b[43m,\u001b[49m\u001b[43m \u001b[49m\u001b[43my\u001b[49m\u001b[43m,\u001b[49m\u001b[43m \u001b[49m\u001b[38;5;241;43m*\u001b[39;49m\u001b[38;5;241;43m*\u001b[39;49m\u001b[43mrouted_params\u001b[49m\u001b[38;5;241;43m.\u001b[39;49m\u001b[43msplitter\u001b[49m\u001b[38;5;241;43m.\u001b[39;49m\u001b[43msplit\u001b[49m\u001b[43m)\u001b[49m\u001b[43m)\u001b[49m\u001b[43m,\u001b[49m\n\u001b[0;32m    929\u001b[0m \u001b[43m    \u001b[49m\u001b[43m)\u001b[49m\n\u001b[0;32m    930\u001b[0m \u001b[43m\u001b[49m\u001b[43m)\u001b[49m\n\u001b[0;32m    932\u001b[0m \u001b[38;5;28;01mif\u001b[39;00m \u001b[38;5;28mlen\u001b[39m(out) \u001b[38;5;241m<\u001b[39m \u001b[38;5;241m1\u001b[39m:\n\u001b[0;32m    933\u001b[0m     \u001b[38;5;28;01mraise\u001b[39;00m \u001b[38;5;167;01mValueError\u001b[39;00m(\n\u001b[0;32m    934\u001b[0m         \u001b[38;5;124m\"\u001b[39m\u001b[38;5;124mNo fits were performed. \u001b[39m\u001b[38;5;124m\"\u001b[39m\n\u001b[0;32m    935\u001b[0m         \u001b[38;5;124m\"\u001b[39m\u001b[38;5;124mWas the CV iterator empty? \u001b[39m\u001b[38;5;124m\"\u001b[39m\n\u001b[0;32m    936\u001b[0m         \u001b[38;5;124m\"\u001b[39m\u001b[38;5;124mWere there no candidates?\u001b[39m\u001b[38;5;124m\"\u001b[39m\n\u001b[0;32m    937\u001b[0m     )\n",
      "File \u001b[1;32mc:\\Users\\Vania\\AppData\\Local\\Programs\\Python\\Python312\\Lib\\site-packages\\sklearn\\utils\\parallel.py:67\u001b[0m, in \u001b[0;36mParallel.__call__\u001b[1;34m(self, iterable)\u001b[0m\n\u001b[0;32m     62\u001b[0m config \u001b[38;5;241m=\u001b[39m get_config()\n\u001b[0;32m     63\u001b[0m iterable_with_config \u001b[38;5;241m=\u001b[39m (\n\u001b[0;32m     64\u001b[0m     (_with_config(delayed_func, config), args, kwargs)\n\u001b[0;32m     65\u001b[0m     \u001b[38;5;28;01mfor\u001b[39;00m delayed_func, args, kwargs \u001b[38;5;129;01min\u001b[39;00m iterable\n\u001b[0;32m     66\u001b[0m )\n\u001b[1;32m---> 67\u001b[0m \u001b[38;5;28;01mreturn\u001b[39;00m \u001b[38;5;28;43msuper\u001b[39;49m\u001b[43m(\u001b[49m\u001b[43m)\u001b[49m\u001b[38;5;241;43m.\u001b[39;49m\u001b[38;5;21;43m__call__\u001b[39;49m\u001b[43m(\u001b[49m\u001b[43miterable_with_config\u001b[49m\u001b[43m)\u001b[49m\n",
      "File \u001b[1;32mc:\\Users\\Vania\\AppData\\Local\\Programs\\Python\\Python312\\Lib\\site-packages\\joblib\\parallel.py:2007\u001b[0m, in \u001b[0;36mParallel.__call__\u001b[1;34m(self, iterable)\u001b[0m\n\u001b[0;32m   2001\u001b[0m \u001b[38;5;66;03m# The first item from the output is blank, but it makes the interpreter\u001b[39;00m\n\u001b[0;32m   2002\u001b[0m \u001b[38;5;66;03m# progress until it enters the Try/Except block of the generator and\u001b[39;00m\n\u001b[0;32m   2003\u001b[0m \u001b[38;5;66;03m# reaches the first `yield` statement. This starts the asynchronous\u001b[39;00m\n\u001b[0;32m   2004\u001b[0m \u001b[38;5;66;03m# dispatch of the tasks to the workers.\u001b[39;00m\n\u001b[0;32m   2005\u001b[0m \u001b[38;5;28mnext\u001b[39m(output)\n\u001b[1;32m-> 2007\u001b[0m \u001b[38;5;28;01mreturn\u001b[39;00m output \u001b[38;5;28;01mif\u001b[39;00m \u001b[38;5;28mself\u001b[39m\u001b[38;5;241m.\u001b[39mreturn_generator \u001b[38;5;28;01melse\u001b[39;00m \u001b[38;5;28;43mlist\u001b[39;49m\u001b[43m(\u001b[49m\u001b[43moutput\u001b[49m\u001b[43m)\u001b[49m\n",
      "File \u001b[1;32mc:\\Users\\Vania\\AppData\\Local\\Programs\\Python\\Python312\\Lib\\site-packages\\joblib\\parallel.py:1650\u001b[0m, in \u001b[0;36mParallel._get_outputs\u001b[1;34m(self, iterator, pre_dispatch)\u001b[0m\n\u001b[0;32m   1647\u001b[0m     \u001b[38;5;28;01myield\u001b[39;00m\n\u001b[0;32m   1649\u001b[0m     \u001b[38;5;28;01mwith\u001b[39;00m \u001b[38;5;28mself\u001b[39m\u001b[38;5;241m.\u001b[39m_backend\u001b[38;5;241m.\u001b[39mretrieval_context():\n\u001b[1;32m-> 1650\u001b[0m         \u001b[38;5;28;01myield from\u001b[39;00m \u001b[38;5;28mself\u001b[39m\u001b[38;5;241m.\u001b[39m_retrieve()\n\u001b[0;32m   1652\u001b[0m \u001b[38;5;28;01mexcept\u001b[39;00m \u001b[38;5;167;01mGeneratorExit\u001b[39;00m:\n\u001b[0;32m   1653\u001b[0m     \u001b[38;5;66;03m# The generator has been garbage collected before being fully\u001b[39;00m\n\u001b[0;32m   1654\u001b[0m     \u001b[38;5;66;03m# consumed. This aborts the remaining tasks if possible and warn\u001b[39;00m\n\u001b[0;32m   1655\u001b[0m     \u001b[38;5;66;03m# the user if necessary.\u001b[39;00m\n\u001b[0;32m   1656\u001b[0m     \u001b[38;5;28mself\u001b[39m\u001b[38;5;241m.\u001b[39m_exception \u001b[38;5;241m=\u001b[39m \u001b[38;5;28;01mTrue\u001b[39;00m\n",
      "File \u001b[1;32mc:\\Users\\Vania\\AppData\\Local\\Programs\\Python\\Python312\\Lib\\site-packages\\joblib\\parallel.py:1762\u001b[0m, in \u001b[0;36mParallel._retrieve\u001b[1;34m(self)\u001b[0m\n\u001b[0;32m   1757\u001b[0m \u001b[38;5;66;03m# If the next job is not ready for retrieval yet, we just wait for\u001b[39;00m\n\u001b[0;32m   1758\u001b[0m \u001b[38;5;66;03m# async callbacks to progress.\u001b[39;00m\n\u001b[0;32m   1759\u001b[0m \u001b[38;5;28;01mif\u001b[39;00m ((\u001b[38;5;28mlen\u001b[39m(\u001b[38;5;28mself\u001b[39m\u001b[38;5;241m.\u001b[39m_jobs) \u001b[38;5;241m==\u001b[39m \u001b[38;5;241m0\u001b[39m) \u001b[38;5;129;01mor\u001b[39;00m\n\u001b[0;32m   1760\u001b[0m     (\u001b[38;5;28mself\u001b[39m\u001b[38;5;241m.\u001b[39m_jobs[\u001b[38;5;241m0\u001b[39m]\u001b[38;5;241m.\u001b[39mget_status(\n\u001b[0;32m   1761\u001b[0m         timeout\u001b[38;5;241m=\u001b[39m\u001b[38;5;28mself\u001b[39m\u001b[38;5;241m.\u001b[39mtimeout) \u001b[38;5;241m==\u001b[39m TASK_PENDING)):\n\u001b[1;32m-> 1762\u001b[0m     \u001b[43mtime\u001b[49m\u001b[38;5;241;43m.\u001b[39;49m\u001b[43msleep\u001b[49m\u001b[43m(\u001b[49m\u001b[38;5;241;43m0.01\u001b[39;49m\u001b[43m)\u001b[49m\n\u001b[0;32m   1763\u001b[0m     \u001b[38;5;28;01mcontinue\u001b[39;00m\n\u001b[0;32m   1765\u001b[0m \u001b[38;5;66;03m# We need to be careful: the job list can be filling up as\u001b[39;00m\n\u001b[0;32m   1766\u001b[0m \u001b[38;5;66;03m# we empty it and Python list are not thread-safe by\u001b[39;00m\n\u001b[0;32m   1767\u001b[0m \u001b[38;5;66;03m# default hence the use of the lock\u001b[39;00m\n",
      "\u001b[1;31mKeyboardInterrupt\u001b[0m: "
     ]
    }
   ],
   "source": [
    "import pandas as pd\n",
    "from sklearn.model_selection import GridSearchCV\n",
    "from sklearn.svm import SVC\n",
    "\n",
    "# Cargar los datos preprocesados\n",
    "archivo = 'datos_preprocesados.csv'\n",
    "datos = pd.read_csv(archivo)\n",
    "\n",
    "# Verificar y corregir la columna objetivo si es necesario\n",
    "if datos['Rotulo_Titulo'].dtype == object:\n",
    "    datos['Rotulo_Titulo'] = datos['Rotulo_Titulo'].apply(lambda x: 1 if x == 'SI' else 0)\n",
    "\n",
    "# Asegurarse de que 'Rotulo_Titulo' sea de tipo entero\n",
    "datos['Rotulo_Titulo'] = datos['Rotulo_Titulo'].astype(int)\n",
    "\n",
    "# Separar características y etiquetas\n",
    "X = datos.drop('Rotulo_Titulo', axis=1)\n",
    "y = datos['Rotulo_Titulo']\n",
    "\n",
    "# Definir los hiperparámetros para SVM\n",
    "parametros_svm = {\n",
    "    'C': [1, 10, 100],\n",
    "    'kernel': ['linear', 'rbf'],\n",
    "    'gamma': ['scale', 'auto'],\n",
    "    'degree': [2, 3]\n",
    "}\n",
    "\n",
    "# Crear el modelo de SVM\n",
    "modelo_svm = SVC()\n",
    "\n",
    "# Ejecutar la búsqueda de hiperparámetros para SVM\n",
    "grid_search_svm = GridSearchCV(modelo_svm, parametros_svm, cv=5, verbose=1, n_jobs=-1)\n",
    "grid_search_svm.fit(X, y)\n",
    "\n",
    "# Mostrar resultados\n",
    "print(\"Mejor configuración encontrada para SVM:\")\n",
    "print(grid_search_svm.best_params_)\n",
    "print(\"Puntaje de validación cruzada:\")\n",
    "print(grid_search_svm.best_score_)\n"
   ]
  },
  {
   "cell_type": "code",
   "execution_count": 54,
   "metadata": {},
   "outputs": [
    {
     "name": "stdout",
     "output_type": "stream",
     "text": [
      "Fitting 5 folds for each of 36 candidates, totalling 180 fits\n",
      "Mejor configuración encontrada para Random Forest:\n",
      "{'max_depth': 20, 'max_features': 'sqrt', 'min_samples_split': 5, 'n_estimators': 150}\n",
      "Puntaje de validación cruzada:\n",
      "0.7531355364458062\n",
      "Mejor modelo guardado correctamente en 'mejor_modelo_rf.joblib'\n"
     ]
    }
   ],
   "source": [
    "import pandas as pd\n",
    "from sklearn.model_selection import GridSearchCV\n",
    "from sklearn.ensemble import RandomForestClassifier\n",
    "\n",
    "# Cargar los datos preprocesados\n",
    "archivo = 'datos_preprocesados.csv'\n",
    "datos = pd.read_csv(archivo)\n",
    "\n",
    "# Verificar y corregir la columna objetivo si es necesario\n",
    "if datos['Rotulo_Titulo'].dtype == object:\n",
    "    datos['Rotulo_Titulo'] = datos['Rotulo_Titulo'].apply(lambda x: 1 if x == 'SI' else 0)\n",
    "\n",
    "# Asegurarse de que 'Rotulo_Titulo' sea de tipo entero\n",
    "datos['Rotulo_Titulo'] = datos['Rotulo_Titulo'].astype(int)\n",
    "\n",
    "# Separar características y etiquetas\n",
    "X = datos.drop('Rotulo_Titulo', axis=1)\n",
    "y = datos['Rotulo_Titulo']\n",
    "\n",
    "# Definir los hiperparámetros para Random Forest\n",
    "parametros_rf = {\n",
    "    'n_estimators': [50, 100, 150],\n",
    "    'max_depth': [None, 10, 20],\n",
    "    'min_samples_split': [2, 5],\n",
    "    'max_features': ['sqrt', 'log2']\n",
    "}\n",
    "\n",
    "# Crear el modelo de Random Forest\n",
    "modelo_rf = RandomForestClassifier()\n",
    "\n",
    "# Ejecutar la búsqueda de hiperparámetros para Random Forest\n",
    "grid_search_rf = GridSearchCV(modelo_rf, parametros_rf, cv=5, verbose=1, n_jobs=-1)\n",
    "grid_search_rf.fit(X, y)\n",
    "\n",
    "# Mostrar resultados\n",
    "print(\"Mejor configuración encontrada para Random Forest:\")\n",
    "print(grid_search_rf.best_params_)\n",
    "print(\"Puntaje de validación cruzada:\")\n",
    "print(grid_search_rf.best_score_)\n",
    "\n",
    "from joblib import dump\n",
    "\n",
    "# Guardar el mejor modelo en un archivo\n",
    "ruta_modelo = 'mejor_modelo_rf.joblib'\n",
    "dump(grid_search_rf.best_estimator_, ruta_modelo)\n",
    "\n",
    "print(f\"Mejor modelo guardado correctamente en '{ruta_modelo}'\")"
   ]
  },
  {
   "cell_type": "markdown",
   "metadata": {},
   "source": [
    "# Actividad 4"
   ]
  },
  {
   "cell_type": "code",
   "execution_count": 45,
   "metadata": {},
   "outputs": [
    {
     "name": "stdout",
     "output_type": "stream",
     "text": [
      "Preprocesamiento completo y datos guardados en 'datosEvaluacion_preprocesados.csv'.\n"
     ]
    }
   ],
   "source": [
    "import pandas as pd\n",
    "from sklearn.preprocessing import StandardScaler\n",
    "\n",
    "# Cargar el conjunto de datos\n",
    "archivo = 'Taller_2_Titulacion_Evaluación.csv'\n",
    "datos = pd.read_csv(archivo, encoding='latin-1', delimiter=';')\n",
    "\n",
    "# Ver el número de valores faltantes por columna\n",
    "valores_faltantes = datos.isnull().sum()\n",
    "\n",
    "# Identificar las columnas categóricas\n",
    "columnas_categoricas = datos.select_dtypes(include=['object']).columns\n",
    "\n",
    "# Codificar las variables categóricas\n",
    "datos_codificados = pd.get_dummies(datos, columns=columnas_categoricas, drop_first=True)\n",
    "\n",
    "# Normalizar las características numéricas\n",
    "columnas_numericas = datos_codificados.select_dtypes(include=['float64', 'int64']).columns\n",
    "escalador = StandardScaler()\n",
    "datos_codificados[columnas_numericas] = escalador.fit_transform(datos_codificados[columnas_numericas])\n",
    "\n",
    "# Guardar los datos preprocesados para la siguiente actividad\n",
    "datos_codificados.to_csv('datosEvaluacion_preprocesados.csv', index=False)\n",
    "\n",
    "print(\"Preprocesamiento completo y datos guardados en 'datosEvaluacion_preprocesados.csv'.\")"
   ]
  },
  {
   "cell_type": "code",
   "execution_count": 66,
   "metadata": {},
   "outputs": [
    {
     "name": "stdout",
     "output_type": "stream",
     "text": [
      "Columnas en X_evaluacion: ['MAT_1SEM_PROM', 'FIS_1SEM_PROM', 'ING_1SEM_PROM', 'ACTF_1SEM_A', 'ACTF_1SEM_R', 'OTRANS_1SEM_A', 'OTRANS_1SEM_R', 'OTRANS_1SEM_PROM', 'ESP_1SEM_A', 'ESP_1SEM_R', 'ESP_1SEM_PROM', 'INS_1SEM', 'PROM_1SEM', 'MAT_2SEM_PROM', 'FIS_2SEM_PROM', 'ING_2SEM_PROM', 'ACTF_2SEM_A', 'ACTF_2SEM_R', 'OTRANS_2SEM_A', 'OTRANS_2SEM_R', 'OTRANS_2SEM_PROM', 'ESP_2SEM_A', 'ESP_2SEM_R', 'ESP_2SEM_PROM', 'INS_2SEM', 'PROM_2SEM', 'INSC_AnO', 'PROM_AnO', 'numero_horario_trabajo', 'inferior_ingreso_bruto_fam', 'superior_ingreso_bruto_fam', 'horas_promedio_trabajo', 'cantidad_personas_grupo_familiar', 'cuantos_trabajan_grupo_familiar', 'cuantos_estudian_grupo_pre_basica', 'cuantos_estudian_grupo_basica', 'cuantos_estudian_grupo_media_1_3', 'cuantos_estudian_grupo_media_4', 'cuantos_estudian_grupo_superior', 'cuantos_estudian_grupo_otras', 'ptje_nem', 'ptje_leng', 'ptje_mate', 'ptje_hycs', 'ptje_cien', 'GENERO_M', 'NOM_CARRERA_Ingeniería de Ejecución en Prevención De Riesgos', 'NOM_CARRERA_Técnico Universitario en Construcción', 'NOM_CARRERA_Técnico Universitario en Control de Alimentos', 'NOM_CARRERA_Técnico Universitario en Control del Medio Ambiente', 'NOM_CARRERA_Técnico Universitario en Electricidad', 'NOM_CARRERA_Técnico Universitario en Electrónica', 'NOM_CARRERA_Técnico Universitario en Informática', 'NOM_CARRERA_Técnico Universitario en Matricería para Plásticos y Metales', 'NOM_CARRERA_Técnico Universitario en Mecánica Automotriz', 'NOM_CARRERA_Técnico Universitario en Mecánica Industrial', 'NOM_CARRERA_Técnico Universitario en Prevención de Riesgos', 'NOM_CARRERA_Técnico Universitario en Proyecto y Diseno Mecánico', 'NOM_CARRERA_Técnico Universitario en Proyectos de Ingeniería', 'NOM_CARRERA_Técnico Universitario en Química', 'TIPO_CARRERA_TÉCNICO', 'nombre_nacionalidad_Extranjera', 'descripcion_situacion_egreso_postulante_Promoción anterior& Nacional - alumno regular.', 'descripcion_situacion_egreso_postulante_Promoción del ano& Nacional - alumno regular.', 'nombre_comuna_EM_ANTOFAGASTA', 'nombre_comuna_EM_BUIN', 'nombre_comuna_EM_CABILDO', 'nombre_comuna_EM_CALAMA', 'nombre_comuna_EM_CALBUCO', 'nombre_comuna_EM_CALERA', 'nombre_comuna_EM_CALLE LARGA', 'nombre_comuna_EM_CANELA', 'nombre_comuna_EM_CARTAGENA', 'nombre_comuna_EM_CASABLANCA', 'nombre_comuna_EM_CATEMU', 'nombre_comuna_EM_CERRO NAVIA', 'nombre_comuna_EM_COIHAIQUE', 'nombre_comuna_EM_COINCO', 'nombre_comuna_EM_COLINA', 'nombre_comuna_EM_COLTAUCO', 'nombre_comuna_EM_CON CON', 'nombre_comuna_EM_CONCHALI', 'nombre_comuna_EM_COPIAPO', 'nombre_comuna_EM_COQUIMBO', 'nombre_comuna_EM_CURACAVI', 'nombre_comuna_EM_CURICO', 'nombre_comuna_EM_DIEGO DE ALMAGRO', 'nombre_comuna_EM_DOnIHUE', 'nombre_comuna_EM_EL QUISCO', 'nombre_comuna_EM_EL TABO', 'nombre_comuna_EM_ESTACION CENTRAL', 'nombre_comuna_EM_FREIRINA', 'nombre_comuna_EM_HIJUELAS', 'nombre_comuna_EM_ILLAPEL', 'nombre_comuna_EM_INDEPENDENCIA', 'nombre_comuna_EM_ISLA DE MAIPO', 'nombre_comuna_EM_ISLA DE PASCUA', 'nombre_comuna_EM_LA CISTERNA', 'nombre_comuna_EM_LA CRUZ', 'nombre_comuna_EM_LA FLORIDA', 'nombre_comuna_EM_LA LIGUA', 'nombre_comuna_EM_LAMPA', 'nombre_comuna_EM_LIMACHE', 'nombre_comuna_EM_LLAILLAY', 'nombre_comuna_EM_LO ESPEJO', 'nombre_comuna_EM_LO PRADO', 'nombre_comuna_EM_LOS ANDES', 'nombre_comuna_EM_LOS ANGELES', 'nombre_comuna_EM_LOS VILOS', 'nombre_comuna_EM_MACHALI', 'nombre_comuna_EM_MACUL', 'nombre_comuna_EM_MAIPU', 'nombre_comuna_EM_MELIPILLA', 'nombre_comuna_EM_NOGALES', 'nombre_comuna_EM_OLMUE', 'nombre_comuna_EM_PAILLACO', 'nombre_comuna_EM_PEDRO AGUIRRE CERDA', 'nombre_comuna_EM_PETORCA', 'nombre_comuna_EM_PEnAFLOR', 'nombre_comuna_EM_PROVIDENCIA', 'nombre_comuna_EM_PUCHUNCAVI', 'nombre_comuna_EM_PUCON', 'nombre_comuna_EM_PUDAHUEL', 'nombre_comuna_EM_PUENTE ALTO', 'nombre_comuna_EM_PUERTO MONTT', 'nombre_comuna_EM_PUNTA ARENAS', 'nombre_comuna_EM_PUTAENDO', 'nombre_comuna_EM_QUILICURA', 'nombre_comuna_EM_QUILLOTA', 'nombre_comuna_EM_QUILPUE', 'nombre_comuna_EM_QUINTERO', 'nombre_comuna_EM_RANCAGUA', 'nombre_comuna_EM_RECOLETA', 'nombre_comuna_EM_RENGO', 'nombre_comuna_EM_RINCONADA', 'nombre_comuna_EM_RIO CLARO', 'nombre_comuna_EM_SALAMANCA', 'nombre_comuna_EM_SAN ANTONIO', 'nombre_comuna_EM_SAN ESTEBAN', 'nombre_comuna_EM_SAN FELIPE', 'nombre_comuna_EM_SAN FERNANDO', 'nombre_comuna_EM_SAN JOAQUIN', 'nombre_comuna_EM_SAN MIGUEL', 'nombre_comuna_EM_SAN RAMON', 'nombre_comuna_EM_SAN VICENTE', 'nombre_comuna_EM_SANTA MARIA', 'nombre_comuna_EM_SANTIAGO', 'nombre_comuna_EM_Sin Datos', 'nombre_comuna_EM_TALCA', 'nombre_comuna_EM_VALLENAR', 'nombre_comuna_EM_VALPARAISO', 'nombre_comuna_EM_VILLA ALEMANA', 'nombre_comuna_EM_VInA DEL MAR', 'nombre_comuna_EM_ZAPALLAR', 'nombre_comuna_EM_nUnOA', 'nombre_provincia_EM_BIOBIO', 'nombre_provincia_EM_CACHAPOAL', 'nombre_provincia_EM_CAUTIN', 'nombre_provincia_EM_CHACABUCO', 'nombre_provincia_EM_CHAnARAL', 'nombre_provincia_EM_CHOAPA', 'nombre_provincia_EM_COIHAIQUE', 'nombre_provincia_EM_COLCHAGUA', 'nombre_provincia_EM_COPIAPO', 'nombre_provincia_EM_CORDILLERA', 'nombre_provincia_EM_CURICO', 'nombre_provincia_EM_EL LOA', 'nombre_provincia_EM_ELQUI', 'nombre_provincia_EM_HUASCO', 'nombre_provincia_EM_ISLA DE PASCUA', 'nombre_provincia_EM_LLANQUIHUE', 'nombre_provincia_EM_LOS ANDES', 'nombre_provincia_EM_MAGALLANES', 'nombre_provincia_EM_MAIPO', 'nombre_provincia_EM_MARGA MARGA', 'nombre_provincia_EM_MELIPILLA', 'nombre_provincia_EM_PETORCA', 'nombre_provincia_EM_QUILLOTA', 'nombre_provincia_EM_SAN ANTONIO', 'nombre_provincia_EM_SAN FELIPE DE ACONCAGUA', 'nombre_provincia_EM_SANTIAGO', 'nombre_provincia_EM_Sin Datos', 'nombre_provincia_EM_TALAGANTE', 'nombre_provincia_EM_TALCA', 'nombre_provincia_EM_VALDIVIA', 'nombre_provincia_EM_VALPARAISO', 'nombre_region_EM_REGION DE ANTOFAGASTA', 'nombre_region_EM_REGION DE ATACAMA', 'nombre_region_EM_REGION DE COQUIMBO', 'nombre_region_EM_REGION DE LA ARAUCANIA', 'nombre_region_EM_REGION DE LOS LAGOS', 'nombre_region_EM_REGION DE LOS RIOS', 'nombre_region_EM_REGION DE MAGALLANES Y DE LA ANTARTICA CHILENA', 'nombre_region_EM_REGION DE VALPARAISO', 'nombre_region_EM_REGION DEL BIOBIO', 'nombre_region_EM_REGION DEL LIBERTADOR GENERAL BERNARDO OHIGGINS', 'nombre_region_EM_REGION DEL MAULE', 'nombre_region_EM_REGION METROPOLITANA DE SANTIAGO', 'nombre_region_EM_Sin Datos', 'nombre_dependencia_EM_Corporación de admisión delegada', 'nombre_dependencia_EM_Municipal', 'nombre_dependencia_EM_Particular Subvencionado', 'nombre_dependencia_EM_Particular no Subvencionado', 'nombre_dependencia_EM_Sin Datos', 'nombre_grupo_dependencia_EM_Particular Pagado ', 'nombre_grupo_dependencia_EM_Particular Subvencionado ', 'nombre_grupo_dependencia_EM_Sin Datos', 'descripcion_rama_educacional_EM_Humanista científico nocturno.', 'descripcion_rama_educacional_EM_Sin Datos', 'descripcion_rama_educacional_EM_Técnico profesional agrícola', 'descripcion_rama_educacional_EM_Técnico profesional comercial.', 'descripcion_rama_educacional_EM_Técnico profesional industrial.', 'descripcion_rama_educacional_EM_Técnico profesional marítima.', 'descripcion_rama_educacional_EM_Técnico profesional servicios y técnica', 'nombre_secretaria_admision_Calama', 'nombre_secretaria_admision_Chanaral', 'nombre_secretaria_admision_Copiapó', 'nombre_secretaria_admision_Coyhaique', 'nombre_secretaria_admision_Curicó', 'nombre_secretaria_admision_Illapel', 'nombre_secretaria_admision_La Ligua', 'nombre_secretaria_admision_La Serena', 'nombre_secretaria_admision_Los Angeles', 'nombre_secretaria_admision_Melipilla', 'nombre_secretaria_admision_Puente Alto', 'nombre_secretaria_admision_Puerto Montt', 'nombre_secretaria_admision_Punta Arenas', 'nombre_secretaria_admision_Quillota', 'nombre_secretaria_admision_Quilpue', 'nombre_secretaria_admision_Rancagua', 'nombre_secretaria_admision_San Antonio', 'nombre_secretaria_admision_San Felipe', 'nombre_secretaria_admision_San Fernando', 'nombre_secretaria_admision_Santiago', 'nombre_secretaria_admision_Talagante', 'nombre_secretaria_admision_Talca', 'nombre_secretaria_admision_Valdivia', 'nombre_secretaria_admision_Vallenar', 'nombre_secretaria_admision_Valparaíso', 'nombre_secretaria_admision_Villarrica', 'nombre_secretaria_admision_Vina del Mar', 'numero_estado_civil_otro', 'numero_estado_civil_soltero(a)', 'descripcion_trabajo_remunerado_Ocasionalmente', 'descripcion_trabajo_remunerado_Sin Datos', 'descripcion_trabajo_remunerado_Sí& permanentemente', 'descripcion_proseguir_estudios_Con sus padres', 'descripcion_proseguir_estudios_En forma independiente', 'descripcion_proseguir_estudios_En pensión', 'descripcion_proseguir_estudios_Otros', 'descripcion_proseguir_estudios_Sin Datos', 'descripcion_jefe_familia_Cónyuge del postulante', 'descripcion_jefe_familia_El postulante', 'descripcion_jefe_familia_Hermano(a)', 'descripcion_jefe_familia_Madre del postulante', 'descripcion_jefe_familia_Otra persona', 'descripcion_jefe_familia_Otro familiar del postulante', 'descripcion_jefe_familia_Padre del postulante', 'descripcion_jefe_familia_Sin Datos', 'descripcion_fuente_financiamiento_estudio_superior_Cónyuge del Postulante', 'descripcion_fuente_financiamiento_estudio_superior_Otras fuentes', 'descripcion_fuente_financiamiento_estudio_superior_Otros familiares', 'descripcion_fuente_financiamiento_estudio_superior_Padres del Postulante', 'descripcion_fuente_financiamiento_estudio_superior_Préstamo', 'descripcion_fuente_financiamiento_estudio_superior_Sin Datos', 'descripcion_fuente_financiamiento_estudio_superior_Trabajo personal', 'descripcion_fuente_financiamiento_estudio_superior2_Cónyuge del Postulante', 'descripcion_fuente_financiamiento_estudio_superior2_Otras fuentes', 'descripcion_fuente_financiamiento_estudio_superior2_Otros familiares', 'descripcion_fuente_financiamiento_estudio_superior2_Padres del Postulante', 'descripcion_fuente_financiamiento_estudio_superior2_Préstamo', 'descripcion_fuente_financiamiento_estudio_superior2_Sin Datos', 'descripcion_fuente_financiamiento_estudio_superior2_Trabajo personal', 'nombre_cobertura_salud_Dipreca', 'nombre_cobertura_salud_Fonasa', 'nombre_cobertura_salud_Isapre', 'nombre_cobertura_salud_Otro', 'nombre_cobertura_salud_Sin Datos', 'descripcion_viven_padres_Ninguno vive', 'descripcion_viven_padres_Sin Datos', 'descripcion_viven_padres_Sólo el padre', 'descripcion_viven_padres_Sólo la madre', 'descripcion_nivel_educacion_padre_Básica incompleta', 'descripcion_nivel_educacion_padre_Centro de formación técnica completa', 'descripcion_nivel_educacion_padre_Centro de formación técnica incompleta', 'descripcion_nivel_educacion_padre_Desconocida o sin información', 'descripcion_nivel_educacion_padre_Instituto profesional completa', 'descripcion_nivel_educacion_padre_Instituto profesional incompleta', 'descripcion_nivel_educacion_padre_Media completa', 'descripcion_nivel_educacion_padre_Media incompleta', 'descripcion_nivel_educacion_padre_Otros estudios', 'descripcion_nivel_educacion_padre_Sin Datos', 'descripcion_nivel_educacion_padre_Sin estudios', 'descripcion_nivel_educacion_padre_Universitaria completa', 'descripcion_nivel_educacion_padre_Universitaria incompleta', 'descripcion_nivel_educacion_madre_Básica incompleta', 'descripcion_nivel_educacion_madre_Centro de formación técnica completa', 'descripcion_nivel_educacion_madre_Centro de formación técnica incompleta', 'descripcion_nivel_educacion_madre_Desconocida o sin información', 'descripcion_nivel_educacion_madre_Instituto profesional incompleta', 'descripcion_nivel_educacion_madre_Media completa', 'descripcion_nivel_educacion_madre_Media incompleta', 'descripcion_nivel_educacion_madre_Otros estudios', 'descripcion_nivel_educacion_madre_Sin Datos', 'descripcion_nivel_educacion_madre_Universitaria completa', 'descripcion_nivel_educacion_madre_Universitaria incompleta', 'descripcion_situacion_ocupacional_padre_Cesante', 'descripcion_situacion_ocupacional_padre_Jubilado o pensionado (no reincorporado)', 'descripcion_situacion_ocupacional_padre_No trabaja (enfermedad& edad avanzada)', 'descripcion_situacion_ocupacional_padre_Otra situación', 'descripcion_situacion_ocupacional_padre_Sin Datos', 'descripcion_situacion_ocupacional_padre_Trabaja sólo ocasionalmente', 'descripcion_situacion_ocupacional_madre_Cesante', 'descripcion_situacion_ocupacional_madre_Dueno de casa', 'descripcion_situacion_ocupacional_madre_Jubilado o pensionado (no reincorporado)', 'descripcion_situacion_ocupacional_madre_No trabaja (enfermedad& edad avanzada)', 'descripcion_situacion_ocupacional_madre_Otra situación', 'descripcion_situacion_ocupacional_madre_Sin Datos', 'descripcion_situacion_ocupacional_madre_Trabaja sólo ocasionalmente', 'descripcion_tipo_organismo_trabajan_padre_Dueno de casa', 'descripcion_tipo_organismo_trabajan_padre_Fiscal o semifiscal', 'descripcion_tipo_organismo_trabajan_padre_Independiente', 'descripcion_tipo_organismo_trabajan_padre_Internacional', 'descripcion_tipo_organismo_trabajan_padre_Otro', 'descripcion_tipo_organismo_trabajan_padre_Privado o particular', 'descripcion_tipo_organismo_trabajan_padre_Sin Datos', 'descripcion_tipo_organismo_trabajan_madre_Dueno de casa', 'descripcion_tipo_organismo_trabajan_madre_Fiscal o semifiscal', 'descripcion_tipo_organismo_trabajan_madre_Independiente', 'descripcion_tipo_organismo_trabajan_madre_Internacional', 'descripcion_tipo_organismo_trabajan_madre_Otro', 'descripcion_tipo_organismo_trabajan_madre_Privado o particular', 'descripcion_tipo_organismo_trabajan_madre_Sin Datos', 'descripcion_ocupacion_principal_padre_Empleado de oficina y actividades semiespecializadas& oficinista&  secretario& vendedor de comercio& chofer& etc.', 'descripcion_ocupacion_principal_padre_Empleado o funcionario especializado& jefe  intermedio de servicios públicos y privados. Oficial  de FF.AA. y Carabineros. Profesional o técnico con  menos de cinco anos de estudios universitarios.  Mediano empresario industrial& comerciante&  agrícola y minero.', 'descripcion_ocupacion_principal_padre_Gerente& administrativo de categoría superior&  gran empresario industrial& comercial y agrícola  (más de 50 empleados)& Alto ejecutivo de banco&  AFP e Isapre. Oficial superior de FF.AA. y  Carabineros. Miembro superior del poder Judicial&  Diplomático& etc.', 'descripcion_ocupacion_principal_padre_Obrero agrícola o minero calificado& mecánico& electricista&  tractorista& etc.', 'descripcion_ocupacion_principal_padre_Obrero agrícola o minero no calificado& obrero agrícola ganadero&  maderero& pescador& minero& etc.', 'descripcion_ocupacion_principal_padre_Obrero urbano calificado& electricista& mecánico& carpintero& etc.', 'descripcion_ocupacion_principal_padre_Obrero urbano no calificado& obrero de la construcción& cargador&  estibador& etc.', 'descripcion_ocupacion_principal_padre_Oficios artesanales& talleres de joyeros& mueblista& sastre& modista&  peluquero& etc.', 'descripcion_ocupacion_principal_padre_Pequeno empresario industrial& suboficial de FF.AA y Carabineros&  minero& comercial y agrícola', 'descripcion_ocupacion_principal_padre_Profesional con cinco o más anos de estudios  universitarios', 'descripcion_ocupacion_principal_padre_Servicio doméstico& servicios menores (de restaurantes& mensajero&  conserje& etc.).', 'descripcion_ocupacion_principal_padre_Sin Datos', 'descripcion_ocupacion_principal_madre_Empleado de oficina y actividades semiespecializadas& oficinista&  secretario& vendedor de comercio& chofer& etc.', 'descripcion_ocupacion_principal_madre_Empleado o funcionario especializado& jefe  intermedio de servicios públicos y privados. Oficial  de FF.AA. y Carabineros. Profesional o técnico con  menos de cinco anos de estudios universitarios.  Mediano empresario industrial& comerciante&  agrícola y minero.', 'descripcion_ocupacion_principal_madre_Gerente& administrativo de categoría superior&  gran empresario industrial& comercial y agrícola  (más de 50 empleados)& Alto ejecutivo de banco&  AFP e Isapre. Oficial superior de FF.AA. y  Carabineros. Miembro superior del poder Judicial&  Diplomático& etc.', 'descripcion_ocupacion_principal_madre_Obrero agrícola o minero no calificado& obrero agrícola ganadero&  maderero& pescador& minero& etc.', 'descripcion_ocupacion_principal_madre_Obrero urbano calificado& electricista& mecánico& carpintero& etc.', 'descripcion_ocupacion_principal_madre_Obrero urbano no calificado& obrero de la construcción& cargador&  estibador& etc.', 'descripcion_ocupacion_principal_madre_Oficios artesanales& talleres de joyeros& mueblista& sastre& modista&  peluquero& etc.', 'descripcion_ocupacion_principal_madre_Pequeno empresario industrial& suboficial de FF.AA y Carabineros&  minero& comercial y agrícola', 'descripcion_ocupacion_principal_madre_Profesional con cinco o más anos de estudios  universitarios', 'descripcion_ocupacion_principal_madre_Servicio doméstico& servicios menores (de restaurantes& mensajero&  conserje& etc.).', 'descripcion_ocupacion_principal_madre_Sin Datos', 'descripcion_rama_actividad_padre_Comercio al por mayor y menor. Bancos y seguros', 'descripcion_rama_actividad_padre_Dueno de casa.', 'descripcion_rama_actividad_padre_Explotación de minas y canteras', 'descripcion_rama_actividad_padre_Ingeniería& industria& construcción& artesanía& industria de  alimentos& textiles& metalúrgica& química& calzado& etc. Construcción de  viviendas y caminos& etc. Talleres.', 'descripcion_rama_actividad_padre_Otros servicios personales& trabajos en hoteles& residenciales&  restaurantes& casas particulares& etc.', 'descripcion_rama_actividad_padre_Otros servicios públicos y privados no incluidos en los anteriores.  Tesorería& Impuestos Internos& etc.', 'descripcion_rama_actividad_padre_Servicios de salud públicos y privados. Ministerio de Salud e  instituciones de salud.', 'descripcion_rama_actividad_padre_Servicios de utilidad pública& fiscales y privados. Agua& luz& gas&  Servicios Sanitarios& Municipalidades& etc', 'descripcion_rama_actividad_padre_Servicios educacionales públicos y privados. Ministerio de  Educación& establecimientos educacionales de todos los niveles.', 'descripcion_rama_actividad_padre_Servicios jurídicos& de orden y seguridad& Ministerio de Interior&  Justicia y Defensa& servicios jurídicos públicos y privados. FF.AA. y  Carabineros.', 'descripcion_rama_actividad_padre_Sin datos', 'descripcion_rama_actividad_padre_Transporte& almacenaje y comunicaciones. Transporte terrestre&  aéreo& marítimo. Comunicaciones telegráficas& telefónicas& radio y TV.', 'descripcion_rama_actividad_madre_Comercio al por mayor y menor. Bancos y seguros', 'descripcion_rama_actividad_madre_Dueno de casa.', 'descripcion_rama_actividad_madre_Ingeniería& industria& construcción& artesanía& industria de  alimentos& textiles& metalúrgica& química& calzado& etc. Construcción de  viviendas y caminos& etc. Talleres.', 'descripcion_rama_actividad_madre_Otros servicios personales& trabajos en hoteles& residenciales&  restaurantes& casas particulares& etc.', 'descripcion_rama_actividad_madre_Otros servicios públicos y privados no incluidos en los anteriores.  Tesorería& Impuestos Internos& etc.', 'descripcion_rama_actividad_madre_Servicios de salud públicos y privados. Ministerio de Salud e  instituciones de salud.', 'descripcion_rama_actividad_madre_Servicios de utilidad pública& fiscales y privados. Agua& luz& gas&  Servicios Sanitarios& Municipalidades& etc', 'descripcion_rama_actividad_madre_Servicios educacionales públicos y privados. Ministerio de  Educación& establecimientos educacionales de todos los niveles.', 'descripcion_rama_actividad_madre_Servicios jurídicos& de orden y seguridad& Ministerio de Interior&  Justicia y Defensa& servicios jurídicos públicos y privados. FF.AA. y  Carabineros.', 'descripcion_rama_actividad_madre_Sin datos', 'descripcion_rama_actividad_madre_Transporte& almacenaje y comunicaciones. Transporte terrestre&  aéreo& marítimo. Comunicaciones telegráficas& telefónicas& radio y TV.']\n",
      "Columnas del modelo: ['Id', 'MAT_1SEM_PROM', 'FIS_1SEM_PROM', 'ING_1SEM_PROM', 'ACTF_1SEM_A', 'OTRANS_1SEM_A', 'OTRANS_1SEM_R', 'OTRANS_1SEM_PROM', 'ESP_1SEM_A', 'ESP_1SEM_R', 'ESP_1SEM_PROM', 'INS_1SEM', 'PROM_1SEM', 'MAT_2SEM_PROM', 'FIS_2SEM_PROM', 'ING_2SEM_PROM', 'ACTF_2SEM_A', 'OTRANS_2SEM_A', 'OTRANS_2SEM_R', 'OTRANS_2SEM_PROM', 'ESP_2SEM_A', 'ESP_2SEM_R', 'ESP_2SEM_PROM', 'INS_2SEM', 'PROM_2SEM', 'INSC_AnO', 'PROM_AnO', 'numero_horario_trabajo', 'inferior_ingreso_bruto_fam', 'superior_ingreso_bruto_fam', 'horas_promedio_trabajo', 'cantidad_personas_grupo_familiar', 'cuantos_estudian_grupo_superior', 'ptje_nem', 'ptje_leng', 'ptje_mate', 'ptje_hycs', 'ptje_cien', 'GENERO_M', 'NOM_CARRERA_Ingeniería de Ejecución en Prevención De Riesgos', 'NOM_CARRERA_Técnico Universitario en Construcción', 'NOM_CARRERA_Técnico Universitario en Control de Alimentos', 'NOM_CARRERA_Técnico Universitario en Control del Medio Ambiente', 'NOM_CARRERA_Técnico Universitario en Electricidad', 'NOM_CARRERA_Técnico Universitario en Electrónica', 'NOM_CARRERA_Técnico Universitario en Informática', 'NOM_CARRERA_Técnico Universitario en Matricería para Plásticos y Metales', 'NOM_CARRERA_Técnico Universitario en Mecánica Automotriz', 'NOM_CARRERA_Técnico Universitario en Mecánica Industrial', 'NOM_CARRERA_Técnico Universitario en Prevención de Riesgos', 'NOM_CARRERA_Técnico Universitario en Proyecto y Diseno Mecánico', 'NOM_CARRERA_Técnico Universitario en Proyectos de Ingeniería', 'NOM_CARRERA_Técnico Universitario en Química', 'TIPO_CARRERA_TÉCNICO', 'nombre_comuna_EM_ALGARROBO', 'nombre_comuna_EM_ALHUE', 'nombre_comuna_EM_ALTO HOSPICIO', 'nombre_comuna_EM_ANTOFAGASTA', 'nombre_comuna_EM_ARICA', 'nombre_comuna_EM_BUIN', 'nombre_comuna_EM_CABILDO', 'nombre_comuna_EM_CABO DE HORNO (EX NAVARINO)', 'nombre_comuna_EM_CALAMA', 'nombre_comuna_EM_CALDERA', 'nombre_comuna_EM_CALERA', 'nombre_comuna_EM_CALERA DE TANGO', 'nombre_comuna_EM_CALLE LARGA', 'nombre_comuna_EM_CANELA', 'nombre_comuna_EM_CARTAGENA', 'nombre_comuna_EM_CASABLANCA', 'nombre_comuna_EM_CASTRO', 'nombre_comuna_EM_CATEMU', 'nombre_comuna_EM_CERRILLOS', 'nombre_comuna_EM_CHANCO', 'nombre_comuna_EM_CHAnARAL', 'nombre_comuna_EM_CHIMBARONGO', 'nombre_comuna_EM_CHONCHI', 'nombre_comuna_EM_COBQUECURA', 'nombre_comuna_EM_CODEGUA', 'nombre_comuna_EM_COIHAIQUE', 'nombre_comuna_EM_COINCO', 'nombre_comuna_EM_COLBUN', 'nombre_comuna_EM_COLINA', 'nombre_comuna_EM_COLTAUCO', 'nombre_comuna_EM_COMBARBALA', 'nombre_comuna_EM_CON CON', 'nombre_comuna_EM_CONCHALI', 'nombre_comuna_EM_CONSTITUCION', 'nombre_comuna_EM_COPIAPO', 'nombre_comuna_EM_COQUIMBO', 'nombre_comuna_EM_CURACAVI', 'nombre_comuna_EM_CUREPTO', 'nombre_comuna_EM_CURICO', 'nombre_comuna_EM_DIEGO DE ALMAGRO', 'nombre_comuna_EM_DOnIHUE', 'nombre_comuna_EM_EL BOSQUE', 'nombre_comuna_EM_EL MONTE', 'nombre_comuna_EM_EL QUISCO', 'nombre_comuna_EM_EL TABO', 'nombre_comuna_EM_ESTACION CENTRAL', 'nombre_comuna_EM_FREIRE', 'nombre_comuna_EM_FRUTILLAR', 'nombre_comuna_EM_GRANEROS', 'nombre_comuna_EM_HIJUELAS', 'nombre_comuna_EM_HUALAnE', 'nombre_comuna_EM_HUASCO', 'nombre_comuna_EM_ILLAPEL', 'nombre_comuna_EM_INDEPENDENCIA', 'nombre_comuna_EM_IQUIQUE', 'nombre_comuna_EM_ISLA DE MAIPO', 'nombre_comuna_EM_ISLA DE PASCUA', 'nombre_comuna_EM_JUAN FERNANDEZ', 'nombre_comuna_EM_LA CISTERNA', 'nombre_comuna_EM_LA CRUZ', 'nombre_comuna_EM_LA FLORIDA', 'nombre_comuna_EM_LA GRANJA', 'nombre_comuna_EM_LA LIGUA', 'nombre_comuna_EM_LA PINTANA', 'nombre_comuna_EM_LA REINA', 'nombre_comuna_EM_LA SERENA', 'nombre_comuna_EM_LA UNION', 'nombre_comuna_EM_LAS CONDES', 'nombre_comuna_EM_LIMACHE', 'nombre_comuna_EM_LINARES', 'nombre_comuna_EM_LITUECHE', 'nombre_comuna_EM_LLAILLAY', 'nombre_comuna_EM_LO BARNECHEA', 'nombre_comuna_EM_LO ESPEJO', 'nombre_comuna_EM_LO PRADO', 'nombre_comuna_EM_LOLOL', 'nombre_comuna_EM_LONGAVI', 'nombre_comuna_EM_LOS ANDES', 'nombre_comuna_EM_LOS ANGELES', 'nombre_comuna_EM_LOS VILOS', 'nombre_comuna_EM_MACHALI', 'nombre_comuna_EM_MACUL', 'nombre_comuna_EM_MAFIL', 'nombre_comuna_EM_MAIPU', 'nombre_comuna_EM_MALLOA', 'nombre_comuna_EM_MARIA ELENA', 'nombre_comuna_EM_MARIA PINTO', 'nombre_comuna_EM_MAULE', 'nombre_comuna_EM_MAULLIN', 'nombre_comuna_EM_MELIPILLA', 'nombre_comuna_EM_MOLINA', 'nombre_comuna_EM_MONTE PATRIA', 'nombre_comuna_EM_MOSTAZAL', 'nombre_comuna_EM_NACIMIENTO', 'nombre_comuna_EM_NANCAGUA', 'nombre_comuna_EM_NAVIDAD', 'nombre_comuna_EM_NOGALES', 'nombre_comuna_EM_OLMUE', 'nombre_comuna_EM_OSORNO', 'nombre_comuna_EM_OVALLE', 'nombre_comuna_EM_PAINE', 'nombre_comuna_EM_PALMILLA', 'nombre_comuna_EM_PANQUEHUE', 'nombre_comuna_EM_PAPUDO', 'nombre_comuna_EM_PEDRO AGUIRRE CERDA', 'nombre_comuna_EM_PERALILLO', 'nombre_comuna_EM_PETORCA', 'nombre_comuna_EM_PEUMO', 'nombre_comuna_EM_PEnAFLOR', 'nombre_comuna_EM_PEnALOLEN', 'nombre_comuna_EM_PICHIDEGUA', 'nombre_comuna_EM_PICHILEMU', 'nombre_comuna_EM_PLACILLA', 'nombre_comuna_EM_PROVIDENCIA', 'nombre_comuna_EM_PUCHUNCAVI', 'nombre_comuna_EM_PUDAHUEL', 'nombre_comuna_EM_PUENTE ALTO', 'nombre_comuna_EM_PUERTO MONTT', 'nombre_comuna_EM_PUERTO VARAS', 'nombre_comuna_EM_PUNTA ARENAS', 'nombre_comuna_EM_PUTAENDO', 'nombre_comuna_EM_QUELLON', 'nombre_comuna_EM_QUILICURA', 'nombre_comuna_EM_QUILLOTA', 'nombre_comuna_EM_QUILPUE', 'nombre_comuna_EM_QUINTA DE TILCOCO', 'nombre_comuna_EM_QUINTA NORMAL', 'nombre_comuna_EM_QUINTERO', 'nombre_comuna_EM_RANCAGUA', 'nombre_comuna_EM_RECOLETA', 'nombre_comuna_EM_RENCA', 'nombre_comuna_EM_RENGO', 'nombre_comuna_EM_REQUINOA', 'nombre_comuna_EM_RINCONADA', 'nombre_comuna_EM_RIO HURTADO', 'nombre_comuna_EM_SALAMANCA', 'nombre_comuna_EM_SAN ANTONIO', 'nombre_comuna_EM_SAN BERNARDO', 'nombre_comuna_EM_SAN ESTEBAN', 'nombre_comuna_EM_SAN FELIPE', 'nombre_comuna_EM_SAN FERNANDO', 'nombre_comuna_EM_SAN JAVIER', 'nombre_comuna_EM_SAN JOAQUIN', 'nombre_comuna_EM_SAN MIGUEL', 'nombre_comuna_EM_SAN PEDRO', 'nombre_comuna_EM_SAN PEDRO DE LA PAZ', 'nombre_comuna_EM_SAN RAMON', 'nombre_comuna_EM_SAN VICENTE', 'nombre_comuna_EM_SANTA CRUZ', 'nombre_comuna_EM_SANTA MARIA', 'nombre_comuna_EM_SANTIAGO', 'nombre_comuna_EM_SANTO DOMINGO', 'nombre_comuna_EM_Sin Datos', 'nombre_comuna_EM_TALAGANTE', 'nombre_comuna_EM_TALCA', 'nombre_comuna_EM_TALCAHUANO', 'nombre_comuna_EM_TEMUCO', 'nombre_comuna_EM_TENO', 'nombre_comuna_EM_TILTIL', 'nombre_comuna_EM_VALDIVIA', 'nombre_comuna_EM_VALLENAR', 'nombre_comuna_EM_VALPARAISO', 'nombre_comuna_EM_VICTORIA', 'nombre_comuna_EM_VICUnA', 'nombre_comuna_EM_VILLA ALEMANA', 'nombre_comuna_EM_VILLARRICA', 'nombre_comuna_EM_VInA DEL MAR', 'nombre_comuna_EM_ZAPALLAR', 'nombre_comuna_EM_nUnOA', 'nombre_provincia_EM_ANTARTICA CHILENA', 'nombre_provincia_EM_ANTOFAGASTA', 'nombre_provincia_EM_ARICA', 'nombre_provincia_EM_BIOBIO', 'nombre_provincia_EM_CACHAPOAL', 'nombre_provincia_EM_CARDENAL CARO', 'nombre_provincia_EM_CAUQUENES', 'nombre_provincia_EM_CAUTIN', 'nombre_provincia_EM_CHACABUCO', 'nombre_provincia_EM_CHAnARAL', 'nombre_provincia_EM_CHILOE', 'nombre_provincia_EM_CHOAPA', 'nombre_provincia_EM_COIHAIQUE', 'nombre_provincia_EM_COLCHAGUA', 'nombre_provincia_EM_CONCEPCION', 'nombre_provincia_EM_COPIAPO', 'nombre_provincia_EM_CORDILLERA', 'nombre_provincia_EM_CURICO', 'nombre_provincia_EM_EL LOA', 'nombre_provincia_EM_ELQUI', 'nombre_provincia_EM_HUASCO', 'nombre_provincia_EM_IQUIQUE', 'nombre_provincia_EM_ISLA DE PASCUA', 'nombre_provincia_EM_LIMARI', 'nombre_provincia_EM_LINARES', 'nombre_provincia_EM_LLANQUIHUE', 'nombre_provincia_EM_LOS ANDES', 'nombre_provincia_EM_MAGALLANES', 'nombre_provincia_EM_MAIPO', 'nombre_provincia_EM_MALLECO', 'nombre_provincia_EM_MARGA MARGA', 'nombre_provincia_EM_MELIPILLA', 'nombre_provincia_EM_OSORNO', 'nombre_provincia_EM_PETORCA', 'nombre_provincia_EM_QUILLOTA', 'nombre_provincia_EM_RANCO', 'nombre_provincia_EM_SAN ANTONIO', 'nombre_provincia_EM_SAN FELIPE DE ACONCAGUA', 'nombre_provincia_EM_SANTIAGO', 'nombre_provincia_EM_Sin Datos', 'nombre_provincia_EM_TALAGANTE', 'nombre_provincia_EM_TALCA', 'nombre_provincia_EM_TOCOPILLA', 'nombre_provincia_EM_VALDIVIA', 'nombre_provincia_EM_VALPARAISO', 'nombre_provincia_EM_nUBLE', 'nombre_region_EM_REGION DE ANTOFAGASTA', 'nombre_region_EM_REGION DE ARICA Y PARINACOTA', 'nombre_region_EM_REGION DE ATACAMA', 'nombre_region_EM_REGION DE COQUIMBO', 'nombre_region_EM_REGION DE LA ARAUCANIA', 'nombre_region_EM_REGION DE LOS LAGOS', 'nombre_region_EM_REGION DE LOS RIOS', 'nombre_region_EM_REGION DE MAGALLANES Y DE LA ANTARTICA CHILENA', 'nombre_region_EM_REGION DE TARAPACA', 'nombre_region_EM_REGION DE VALPARAISO', 'nombre_region_EM_REGION DEL BIOBIO', 'nombre_region_EM_REGION DEL LIBERTADOR GENERAL BERNARDO OHIGGINS', 'nombre_region_EM_REGION DEL MAULE', 'nombre_region_EM_REGION METROPOLITANA DE SANTIAGO', 'nombre_region_EM_Sin Datos', 'nombre_grupo_dependencia_EM_Particular Pagado ', 'nombre_grupo_dependencia_EM_Particular Subvencionado ', 'nombre_grupo_dependencia_EM_Sin Datos', 'descripcion_rama_educacional_EM_Humanista científico nocturno.', 'descripcion_rama_educacional_EM_Sin Datos', 'descripcion_rama_educacional_EM_Técnico profesional agrícola', 'descripcion_rama_educacional_EM_Técnico profesional comercial.', 'descripcion_rama_educacional_EM_Técnico profesional industrial.', 'descripcion_rama_educacional_EM_Técnico profesional marítima.', 'descripcion_rama_educacional_EM_Técnico profesional servicios y técnica', 'numero_estado_civil_otro', 'numero_estado_civil_soltero(a)', 'descripcion_trabajo_remunerado_Ocasionalmente', 'descripcion_trabajo_remunerado_Sin Datos', 'descripcion_trabajo_remunerado_Sí& permanentemente', 'descripcion_proseguir_estudios_Con sus padres', 'descripcion_proseguir_estudios_En forma independiente', 'descripcion_proseguir_estudios_En pensión', 'descripcion_proseguir_estudios_Otros', 'descripcion_proseguir_estudios_Sin Datos', 'descripcion_fuente_financiamiento_estudio_superior_Cónyuge del Postulante', 'descripcion_fuente_financiamiento_estudio_superior_Otras fuentes', 'descripcion_fuente_financiamiento_estudio_superior_Otros familiares', 'descripcion_fuente_financiamiento_estudio_superior_Padres del Postulante', 'descripcion_fuente_financiamiento_estudio_superior_Préstamo', 'descripcion_fuente_financiamiento_estudio_superior_Sin Datos', 'descripcion_fuente_financiamiento_estudio_superior_Trabajo personal', 'descripcion_fuente_financiamiento_estudio_superior2_Cónyuge del Postulante', 'descripcion_fuente_financiamiento_estudio_superior2_Otras fuentes', 'descripcion_fuente_financiamiento_estudio_superior2_Otros familiares', 'descripcion_fuente_financiamiento_estudio_superior2_Padres del Postulante', 'descripcion_fuente_financiamiento_estudio_superior2_Préstamo', 'descripcion_fuente_financiamiento_estudio_superior2_Sin Datos', 'descripcion_fuente_financiamiento_estudio_superior2_Trabajo personal', 'nombre_cobertura_salud_Dipreca', 'nombre_cobertura_salud_Fonasa', 'nombre_cobertura_salud_Isapre', 'nombre_cobertura_salud_Otro', 'nombre_cobertura_salud_Sin Datos', 'descripcion_viven_padres_Ninguno vive', 'descripcion_viven_padres_Sin Datos', 'descripcion_viven_padres_Sólo el padre', 'descripcion_viven_padres_Sólo la madre', 'descripcion_situacion_ocupacional_padre_Cesante', 'descripcion_situacion_ocupacional_padre_Dueno de casa', 'descripcion_situacion_ocupacional_padre_Jubilado o pensionado (no reincorporado)', 'descripcion_situacion_ocupacional_padre_No trabaja (enfermedad& edad avanzada)', 'descripcion_situacion_ocupacional_padre_Otra situación', 'descripcion_situacion_ocupacional_padre_Sin Datos', 'descripcion_situacion_ocupacional_padre_Trabaja sólo ocasionalmente', 'descripcion_situacion_ocupacional_madre_Cesante', 'descripcion_situacion_ocupacional_madre_Dueno de casa', 'descripcion_situacion_ocupacional_madre_Jubilado o pensionado (no reincorporado)', 'descripcion_situacion_ocupacional_madre_No trabaja (enfermedad& edad avanzada)', 'descripcion_situacion_ocupacional_madre_Otra situación', 'descripcion_situacion_ocupacional_madre_Sin Datos', 'descripcion_situacion_ocupacional_madre_Trabaja sólo ocasionalmente']\n"
     ]
    },
    {
     "ename": "ValueError",
     "evalue": "The feature names should match those that were passed during fit.\nFeature names unseen at fit time:\n- ACTF_1SEM_R\n- ACTF_2SEM_R\n- cuantos_estudian_grupo_basica\n- cuantos_estudian_grupo_media_1_3\n- cuantos_estudian_grupo_media_4\n- ...\nFeature names seen at fit time, yet now missing:\n- Id\n- descripcion_situacion_ocupacional_padre_Dueno de casa\n- nombre_comuna_EM_ALGARROBO\n- nombre_comuna_EM_ALHUE\n- nombre_comuna_EM_ALTO HOSPICIO\n- ...\n",
     "output_type": "error",
     "traceback": [
      "\u001b[1;31m---------------------------------------------------------------------------\u001b[0m",
      "\u001b[1;31mValueError\u001b[0m                                Traceback (most recent call last)",
      "Cell \u001b[1;32mIn[66], line 32\u001b[0m\n\u001b[0;32m     30\u001b[0m \u001b[38;5;66;03m# Realizar predicciones\u001b[39;00m\n\u001b[0;32m     31\u001b[0m X_evaluacion \u001b[38;5;241m=\u001b[39m datos_evaluacion_codificados\u001b[38;5;241m.\u001b[39mdrop(\u001b[38;5;124m'\u001b[39m\u001b[38;5;124mId\u001b[39m\u001b[38;5;124m'\u001b[39m, axis\u001b[38;5;241m=\u001b[39m\u001b[38;5;241m1\u001b[39m)  \u001b[38;5;66;03m# Ajustar esto según la estructura de tus datos de evaluación\u001b[39;00m\n\u001b[1;32m---> 32\u001b[0m predicciones \u001b[38;5;241m=\u001b[39m \u001b[43mmejor_modelo\u001b[49m\u001b[38;5;241;43m.\u001b[39;49m\u001b[43mpredict\u001b[49m\u001b[43m(\u001b[49m\u001b[43mX_evaluacion\u001b[49m\u001b[43m)\u001b[49m\n\u001b[0;32m     34\u001b[0m \u001b[38;5;66;03m# Preparar el archivo de salida\u001b[39;00m\n\u001b[0;32m     35\u001b[0m resultados \u001b[38;5;241m=\u001b[39m pd\u001b[38;5;241m.\u001b[39mDataFrame({\u001b[38;5;124m'\u001b[39m\u001b[38;5;124mId\u001b[39m\u001b[38;5;124m'\u001b[39m: datos_evaluacion[\u001b[38;5;124m'\u001b[39m\u001b[38;5;124mId\u001b[39m\u001b[38;5;124m'\u001b[39m], \u001b[38;5;124m'\u001b[39m\u001b[38;5;124mPrediccion\u001b[39m\u001b[38;5;124m'\u001b[39m: predicciones})\n",
      "File \u001b[1;32mc:\\Users\\Vania\\AppData\\Local\\Programs\\Python\\Python312\\Lib\\site-packages\\sklearn\\ensemble\\_forest.py:904\u001b[0m, in \u001b[0;36mForestClassifier.predict\u001b[1;34m(self, X)\u001b[0m\n\u001b[0;32m    883\u001b[0m \u001b[38;5;28;01mdef\u001b[39;00m \u001b[38;5;21mpredict\u001b[39m(\u001b[38;5;28mself\u001b[39m, X):\n\u001b[0;32m    884\u001b[0m \u001b[38;5;250m    \u001b[39m\u001b[38;5;124;03m\"\"\"\u001b[39;00m\n\u001b[0;32m    885\u001b[0m \u001b[38;5;124;03m    Predict class for X.\u001b[39;00m\n\u001b[0;32m    886\u001b[0m \n\u001b[1;32m   (...)\u001b[0m\n\u001b[0;32m    902\u001b[0m \u001b[38;5;124;03m        The predicted classes.\u001b[39;00m\n\u001b[0;32m    903\u001b[0m \u001b[38;5;124;03m    \"\"\"\u001b[39;00m\n\u001b[1;32m--> 904\u001b[0m     proba \u001b[38;5;241m=\u001b[39m \u001b[38;5;28;43mself\u001b[39;49m\u001b[38;5;241;43m.\u001b[39;49m\u001b[43mpredict_proba\u001b[49m\u001b[43m(\u001b[49m\u001b[43mX\u001b[49m\u001b[43m)\u001b[49m\n\u001b[0;32m    906\u001b[0m     \u001b[38;5;28;01mif\u001b[39;00m \u001b[38;5;28mself\u001b[39m\u001b[38;5;241m.\u001b[39mn_outputs_ \u001b[38;5;241m==\u001b[39m \u001b[38;5;241m1\u001b[39m:\n\u001b[0;32m    907\u001b[0m         \u001b[38;5;28;01mreturn\u001b[39;00m \u001b[38;5;28mself\u001b[39m\u001b[38;5;241m.\u001b[39mclasses_\u001b[38;5;241m.\u001b[39mtake(np\u001b[38;5;241m.\u001b[39margmax(proba, axis\u001b[38;5;241m=\u001b[39m\u001b[38;5;241m1\u001b[39m), axis\u001b[38;5;241m=\u001b[39m\u001b[38;5;241m0\u001b[39m)\n",
      "File \u001b[1;32mc:\\Users\\Vania\\AppData\\Local\\Programs\\Python\\Python312\\Lib\\site-packages\\sklearn\\ensemble\\_forest.py:946\u001b[0m, in \u001b[0;36mForestClassifier.predict_proba\u001b[1;34m(self, X)\u001b[0m\n\u001b[0;32m    944\u001b[0m check_is_fitted(\u001b[38;5;28mself\u001b[39m)\n\u001b[0;32m    945\u001b[0m \u001b[38;5;66;03m# Check data\u001b[39;00m\n\u001b[1;32m--> 946\u001b[0m X \u001b[38;5;241m=\u001b[39m \u001b[38;5;28;43mself\u001b[39;49m\u001b[38;5;241;43m.\u001b[39;49m\u001b[43m_validate_X_predict\u001b[49m\u001b[43m(\u001b[49m\u001b[43mX\u001b[49m\u001b[43m)\u001b[49m\n\u001b[0;32m    948\u001b[0m \u001b[38;5;66;03m# Assign chunk of trees to jobs\u001b[39;00m\n\u001b[0;32m    949\u001b[0m n_jobs, _, _ \u001b[38;5;241m=\u001b[39m _partition_estimators(\u001b[38;5;28mself\u001b[39m\u001b[38;5;241m.\u001b[39mn_estimators, \u001b[38;5;28mself\u001b[39m\u001b[38;5;241m.\u001b[39mn_jobs)\n",
      "File \u001b[1;32mc:\\Users\\Vania\\AppData\\Local\\Programs\\Python\\Python312\\Lib\\site-packages\\sklearn\\ensemble\\_forest.py:641\u001b[0m, in \u001b[0;36mBaseForest._validate_X_predict\u001b[1;34m(self, X)\u001b[0m\n\u001b[0;32m    638\u001b[0m \u001b[38;5;28;01melse\u001b[39;00m:\n\u001b[0;32m    639\u001b[0m     force_all_finite \u001b[38;5;241m=\u001b[39m \u001b[38;5;28;01mTrue\u001b[39;00m\n\u001b[1;32m--> 641\u001b[0m X \u001b[38;5;241m=\u001b[39m \u001b[38;5;28;43mself\u001b[39;49m\u001b[38;5;241;43m.\u001b[39;49m\u001b[43m_validate_data\u001b[49m\u001b[43m(\u001b[49m\n\u001b[0;32m    642\u001b[0m \u001b[43m    \u001b[49m\u001b[43mX\u001b[49m\u001b[43m,\u001b[49m\n\u001b[0;32m    643\u001b[0m \u001b[43m    \u001b[49m\u001b[43mdtype\u001b[49m\u001b[38;5;241;43m=\u001b[39;49m\u001b[43mDTYPE\u001b[49m\u001b[43m,\u001b[49m\n\u001b[0;32m    644\u001b[0m \u001b[43m    \u001b[49m\u001b[43maccept_sparse\u001b[49m\u001b[38;5;241;43m=\u001b[39;49m\u001b[38;5;124;43m\"\u001b[39;49m\u001b[38;5;124;43mcsr\u001b[39;49m\u001b[38;5;124;43m\"\u001b[39;49m\u001b[43m,\u001b[49m\n\u001b[0;32m    645\u001b[0m \u001b[43m    \u001b[49m\u001b[43mreset\u001b[49m\u001b[38;5;241;43m=\u001b[39;49m\u001b[38;5;28;43;01mFalse\u001b[39;49;00m\u001b[43m,\u001b[49m\n\u001b[0;32m    646\u001b[0m \u001b[43m    \u001b[49m\u001b[43mforce_all_finite\u001b[49m\u001b[38;5;241;43m=\u001b[39;49m\u001b[43mforce_all_finite\u001b[49m\u001b[43m,\u001b[49m\n\u001b[0;32m    647\u001b[0m \u001b[43m\u001b[49m\u001b[43m)\u001b[49m\n\u001b[0;32m    648\u001b[0m \u001b[38;5;28;01mif\u001b[39;00m issparse(X) \u001b[38;5;129;01mand\u001b[39;00m (X\u001b[38;5;241m.\u001b[39mindices\u001b[38;5;241m.\u001b[39mdtype \u001b[38;5;241m!=\u001b[39m np\u001b[38;5;241m.\u001b[39mintc \u001b[38;5;129;01mor\u001b[39;00m X\u001b[38;5;241m.\u001b[39mindptr\u001b[38;5;241m.\u001b[39mdtype \u001b[38;5;241m!=\u001b[39m np\u001b[38;5;241m.\u001b[39mintc):\n\u001b[0;32m    649\u001b[0m     \u001b[38;5;28;01mraise\u001b[39;00m \u001b[38;5;167;01mValueError\u001b[39;00m(\u001b[38;5;124m\"\u001b[39m\u001b[38;5;124mNo support for np.int64 index based sparse matrices\u001b[39m\u001b[38;5;124m\"\u001b[39m)\n",
      "File \u001b[1;32mc:\\Users\\Vania\\AppData\\Local\\Programs\\Python\\Python312\\Lib\\site-packages\\sklearn\\base.py:608\u001b[0m, in \u001b[0;36mBaseEstimator._validate_data\u001b[1;34m(self, X, y, reset, validate_separately, cast_to_ndarray, **check_params)\u001b[0m\n\u001b[0;32m    537\u001b[0m \u001b[38;5;28;01mdef\u001b[39;00m \u001b[38;5;21m_validate_data\u001b[39m(\n\u001b[0;32m    538\u001b[0m     \u001b[38;5;28mself\u001b[39m,\n\u001b[0;32m    539\u001b[0m     X\u001b[38;5;241m=\u001b[39m\u001b[38;5;124m\"\u001b[39m\u001b[38;5;124mno_validation\u001b[39m\u001b[38;5;124m\"\u001b[39m,\n\u001b[1;32m   (...)\u001b[0m\n\u001b[0;32m    544\u001b[0m     \u001b[38;5;241m*\u001b[39m\u001b[38;5;241m*\u001b[39mcheck_params,\n\u001b[0;32m    545\u001b[0m ):\n\u001b[0;32m    546\u001b[0m \u001b[38;5;250m    \u001b[39m\u001b[38;5;124;03m\"\"\"Validate input data and set or check the `n_features_in_` attribute.\u001b[39;00m\n\u001b[0;32m    547\u001b[0m \n\u001b[0;32m    548\u001b[0m \u001b[38;5;124;03m    Parameters\u001b[39;00m\n\u001b[1;32m   (...)\u001b[0m\n\u001b[0;32m    606\u001b[0m \u001b[38;5;124;03m        validated.\u001b[39;00m\n\u001b[0;32m    607\u001b[0m \u001b[38;5;124;03m    \"\"\"\u001b[39;00m\n\u001b[1;32m--> 608\u001b[0m     \u001b[38;5;28;43mself\u001b[39;49m\u001b[38;5;241;43m.\u001b[39;49m\u001b[43m_check_feature_names\u001b[49m\u001b[43m(\u001b[49m\u001b[43mX\u001b[49m\u001b[43m,\u001b[49m\u001b[43m \u001b[49m\u001b[43mreset\u001b[49m\u001b[38;5;241;43m=\u001b[39;49m\u001b[43mreset\u001b[49m\u001b[43m)\u001b[49m\n\u001b[0;32m    610\u001b[0m     \u001b[38;5;28;01mif\u001b[39;00m y \u001b[38;5;129;01mis\u001b[39;00m \u001b[38;5;28;01mNone\u001b[39;00m \u001b[38;5;129;01mand\u001b[39;00m \u001b[38;5;28mself\u001b[39m\u001b[38;5;241m.\u001b[39m_get_tags()[\u001b[38;5;124m\"\u001b[39m\u001b[38;5;124mrequires_y\u001b[39m\u001b[38;5;124m\"\u001b[39m]:\n\u001b[0;32m    611\u001b[0m         \u001b[38;5;28;01mraise\u001b[39;00m \u001b[38;5;167;01mValueError\u001b[39;00m(\n\u001b[0;32m    612\u001b[0m             \u001b[38;5;124mf\u001b[39m\u001b[38;5;124m\"\u001b[39m\u001b[38;5;124mThis \u001b[39m\u001b[38;5;132;01m{\u001b[39;00m\u001b[38;5;28mself\u001b[39m\u001b[38;5;241m.\u001b[39m\u001b[38;5;18m__class__\u001b[39m\u001b[38;5;241m.\u001b[39m\u001b[38;5;18m__name__\u001b[39m\u001b[38;5;132;01m}\u001b[39;00m\u001b[38;5;124m estimator \u001b[39m\u001b[38;5;124m\"\u001b[39m\n\u001b[0;32m    613\u001b[0m             \u001b[38;5;124m\"\u001b[39m\u001b[38;5;124mrequires y to be passed, but the target y is None.\u001b[39m\u001b[38;5;124m\"\u001b[39m\n\u001b[0;32m    614\u001b[0m         )\n",
      "File \u001b[1;32mc:\\Users\\Vania\\AppData\\Local\\Programs\\Python\\Python312\\Lib\\site-packages\\sklearn\\base.py:535\u001b[0m, in \u001b[0;36mBaseEstimator._check_feature_names\u001b[1;34m(self, X, reset)\u001b[0m\n\u001b[0;32m    530\u001b[0m \u001b[38;5;28;01mif\u001b[39;00m \u001b[38;5;129;01mnot\u001b[39;00m missing_names \u001b[38;5;129;01mand\u001b[39;00m \u001b[38;5;129;01mnot\u001b[39;00m unexpected_names:\n\u001b[0;32m    531\u001b[0m     message \u001b[38;5;241m+\u001b[39m\u001b[38;5;241m=\u001b[39m (\n\u001b[0;32m    532\u001b[0m         \u001b[38;5;124m\"\u001b[39m\u001b[38;5;124mFeature names must be in the same order as they were in fit.\u001b[39m\u001b[38;5;130;01m\\n\u001b[39;00m\u001b[38;5;124m\"\u001b[39m\n\u001b[0;32m    533\u001b[0m     )\n\u001b[1;32m--> 535\u001b[0m \u001b[38;5;28;01mraise\u001b[39;00m \u001b[38;5;167;01mValueError\u001b[39;00m(message)\n",
      "\u001b[1;31mValueError\u001b[0m: The feature names should match those that were passed during fit.\nFeature names unseen at fit time:\n- ACTF_1SEM_R\n- ACTF_2SEM_R\n- cuantos_estudian_grupo_basica\n- cuantos_estudian_grupo_media_1_3\n- cuantos_estudian_grupo_media_4\n- ...\nFeature names seen at fit time, yet now missing:\n- Id\n- descripcion_situacion_ocupacional_padre_Dueno de casa\n- nombre_comuna_EM_ALGARROBO\n- nombre_comuna_EM_ALHUE\n- nombre_comuna_EM_ALTO HOSPICIO\n- ...\n"
     ]
    }
   ],
   "source": [
    "import pandas as pd\n",
    "from joblib import load\n",
    "from sklearn.preprocessing import StandardScaler\n",
    "\n",
    "# Cargar el conjunto de datos de evaluación\n",
    "archivo_evaluacion = 'Taller_2_Titulacion_Evaluación.csv'\n",
    "datos_evaluacion = pd.read_csv(archivo_evaluacion, encoding='latin-1', delimiter=';')\n",
    "\n",
    "# Cargar el mejor modelo que encontraste en la actividad anterior\n",
    "mejor_modelo = load('mejor_modelo_rf.joblib')\n",
    "\n",
    "# Preprocesar los datos de evaluación de la misma manera que hiciste en actividades previas (si es necesario)\n",
    "\n",
    "# Ver el número de valores faltantes por columna\n",
    "valores_faltantes = datos_evaluacion.isnull().sum()\n",
    "\n",
    "# Identificar las columnas categóricas\n",
    "columnas_categoricas = datos_evaluacion.select_dtypes(include=['object']).columns\n",
    "\n",
    "# Codificar las variables categóricas\n",
    "datos_evaluacion_codificados = pd.get_dummies(datos_evaluacion, columns=columnas_categoricas, drop_first=True)\n",
    "\n",
    "# Normalizar las características numéricas\n",
    "columnas_numericas = datos_evaluacion_codificados.select_dtypes(include=['float64', 'int64']).columns\n",
    "escalador = StandardScaler()\n",
    "datos_evaluacion_codificados[columnas_numericas] = escalador.fit_transform(datos_evaluacion_codificados[columnas_numericas])\n",
    "print(\"Columnas en X_evaluacion:\", list(X_evaluacion.columns))\n",
    "print(\"Columnas del modelo:\", list(mejor_modelo.feature_names_in_))\n",
    "\n",
    "# Realizar predicciones\n",
    "X_evaluacion = datos_evaluacion_codificados.drop('Id', axis=1)  # Ajustar esto según la estructura de tus datos de evaluación\n",
    "predicciones = mejor_modelo.predict(X_evaluacion)\n",
    "\n",
    "# Preparar el archivo de salida\n",
    "resultados = pd.DataFrame({'Id': datos_evaluacion['Id'], 'Prediccion': predicciones})\n",
    "resultados['Prediccion'] = resultados['Prediccion'].apply(lambda x: 'SÍ' if x == 1 else 'NO')\n",
    "\n",
    "# Guardar los resultados en un archivo de texto\n",
    "archivo_salida = 'clasificación_título4.csv'\n",
    "resultados.to_csv(archivo_salida, sep=',', index=False)\n",
    "\n",
    "print(f\"Archivo de clasificación generado correctamente: '{archivo_salida}'\")\n"
   ]
  }
 ],
 "metadata": {
  "kernelspec": {
   "display_name": "Python 3",
   "language": "python",
   "name": "python3"
  },
  "language_info": {
   "codemirror_mode": {
    "name": "ipython",
    "version": 3
   },
   "file_extension": ".py",
   "mimetype": "text/x-python",
   "name": "python",
   "nbconvert_exporter": "python",
   "pygments_lexer": "ipython3",
   "version": "3.12.2"
  }
 },
 "nbformat": 4,
 "nbformat_minor": 2
}
