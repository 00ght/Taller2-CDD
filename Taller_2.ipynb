{
 "cells": [
  {
   "cell_type": "markdown",
   "id": "fe442f04-1ddd-47d6-a2a6-ac3f79b8f8b8",
   "metadata": {},
   "source": [
    "Actividad 1 "
   ]
  },
  {
   "attachments": {},
   "cell_type": "markdown",
   "id": "081f2266-3847-455e-af80-57246eae331a",
   "metadata": {},
   "source": [
    "Explicacion del preprocesamiento hecho y/o fotos del preprocesamiento del csv"
   ]
  },
  {
   "cell_type": "markdown",
   "id": "b383e324-cd03-423f-b21a-51a61083c8d9",
   "metadata": {},
   "source": [
    "Actividad 2 "
   ]
  },
  {
   "cell_type": "markdown",
   "id": "4ff445bd-6fad-4c57-8e28-201ee06d3c63",
   "metadata": {},
   "source": [
    "En este caso se usó <a href=\"https://scikit-learn.org/stable/modules/generated/sklearn.model_selection.KFold.html\">KFold</a>. Recuerde que también existe <a href=\"https://scikit-learn.org/stable/modules/generated/sklearn.model_selection.train_test_split.html\">train_test_split</a>.\n"
   ]
  },
  {
   "cell_type": "code",
   "execution_count": 38,
   "id": "48ae95bb-9df7-4906-969f-dcb8535fa386",
   "metadata": {},
   "outputs": [
    {
     "name": "stdout",
     "output_type": "stream",
     "text": [
      "   MAT_1SEM_PROM  FIS_1SEM_PROM  ING_1SEM_PROM  ACTF_1SEM_A  ACTF_1SEM_R  \\\n",
      "0           55.0            0.0           79.0          1.0          0.0   \n",
      "1           56.0           57.0           88.0          0.0          0.0   \n",
      "2           55.0           64.0           55.0          0.0          0.0   \n",
      "3            0.0           56.0            0.0          0.0          0.0   \n",
      "4           87.0           82.0           86.0          0.0          0.0   \n",
      "\n",
      "   OTRANS_1SEM_A  OTRANS_1SEM_R  OTRANS_1SEM_PROM  ESP_1SEM_A  ESP_1SEM_R  \\\n",
      "0            2.0            0.0              67.0         2.0         0.0   \n",
      "1            0.0            0.0               0.0         4.0         0.0   \n",
      "2            0.0            0.0               0.0         4.0         0.0   \n",
      "3            2.0            0.0              64.0         2.0         0.0   \n",
      "4            0.0            0.0               0.0         3.0         1.0   \n",
      "\n",
      "   ...  \\\n",
      "0  ...   \n",
      "1  ...   \n",
      "2  ...   \n",
      "3  ...   \n",
      "4  ...   \n",
      "\n",
      "   descripcion_rama_actividad_madre_Otros servicios personales& trabajos en hoteles& residenciales&  restaurantes& casas particulares& etc.  \\\n",
      "0                                               True                                                                                          \n",
      "1                                              False                                                                                          \n",
      "2                                              False                                                                                          \n",
      "3                                              False                                                                                          \n",
      "4                                              False                                                                                          \n",
      "\n",
      "   descripcion_rama_actividad_madre_Otros servicios públicos y privados no incluidos en los anteriores.  Tesorería& Impuestos Internos& etc.  \\\n",
      "0                                              False                                                                                           \n",
      "1                                              False                                                                                           \n",
      "2                                              False                                                                                           \n",
      "3                                              False                                                                                           \n",
      "4                                              False                                                                                           \n",
      "\n",
      "   descripcion_rama_actividad_madre_Servicios de salud públicos y privados. Ministerio de Salud e  instituciones de salud.  \\\n",
      "0                                              False                                                                         \n",
      "1                                              False                                                                         \n",
      "2                                              False                                                                         \n",
      "3                                              False                                                                         \n",
      "4                                              False                                                                         \n",
      "\n",
      "   descripcion_rama_actividad_madre_Servicios de utilidad pública& fiscales y privados. Agua& luz& gas&  Servicios Sanitarios& Municipalidades& etc  \\\n",
      "0                                              False                                                                                                  \n",
      "1                                              False                                                                                                  \n",
      "2                                              False                                                                                                  \n",
      "3                                              False                                                                                                  \n",
      "4                                              False                                                                                                  \n",
      "\n",
      "   descripcion_rama_actividad_madre_Servicios educacionales públicos y privados. Ministerio de  Educación& establecimientos educacionales de todos los niveles.  \\\n",
      "0                                              False                                                                                                              \n",
      "1                                              False                                                                                                              \n",
      "2                                              False                                                                                                              \n",
      "3                                              False                                                                                                              \n",
      "4                                              False                                                                                                              \n",
      "\n",
      "   descripcion_rama_actividad_madre_Servicios jurídicos& de orden y seguridad& Ministerio de Interior&  Justicia y Defensa& servicios jurídicos públicos y privados. FF.AA. y  Carabineros.  \\\n",
      "0                                              False                                                                                                                                          \n",
      "1                                              False                                                                                                                                          \n",
      "2                                              False                                                                                                                                          \n",
      "3                                              False                                                                                                                                          \n",
      "4                                              False                                                                                                                                          \n",
      "\n",
      "   descripcion_rama_actividad_madre_Sin datos  \\\n",
      "0                                       False   \n",
      "1                                       False   \n",
      "2                                       False   \n",
      "3                                       False   \n",
      "4                                       False   \n",
      "\n",
      "   descripcion_rama_actividad_madre_Transporte& almacenaje y comunicaciones. Transporte terrestre&  aéreo& marítimo. Comunicaciones telegráficas& telefónicas& radio y TV.  \\\n",
      "0                                              False                                                                                                                         \n",
      "1                                              False                                                                                                                         \n",
      "2                                              False                                                                                                                         \n",
      "3                                              False                                                                                                                         \n",
      "4                                              False                                                                                                                         \n",
      "\n",
      "   Rotulo_Titulo_NO  Rotulo_Titulo_SI  \n",
      "0             False              True  \n",
      "1             False              True  \n",
      "2              True             False  \n",
      "3              True             False  \n",
      "4              True             False  \n",
      "\n",
      "[5 rows x 524 columns]\n",
      "[0. 0. 0. 0. 0.]\n"
     ]
    }
   ],
   "source": [
    "import pandas as pd\n",
    "import numpy as np\n",
    "from sklearn.model_selection import KFold\n",
    "\n",
    "# Cargar los datos desde los archivos CSV\n",
    "archivo_taller = 'Taller_2_Titulacion_DatosTaller.csv'\n",
    "datos_taller = pd.read_csv(archivo_taller, encoding='latin-1', delimiter=';')\n",
    "\n",
    "# Separar las características y la variable objetivo\n",
    "X_taller = datos_taller.iloc[:, :-1]  \n",
    "y_taller= datos_taller.iloc[:, -1]\n",
    "\n",
    "# Eliminar la columna \"Id\" de ambos conjuntos de datos\n",
    "X_taller = datos_taller.drop('Id', axis=1)\n",
    "\n",
    "# Convertir variables categóricas en dummies\n",
    "X_taller = pd.get_dummies(X_taller)\n",
    "\n",
    "# Convertir las etiquetas categóricas en valores binarios\n",
    "y_taller = y_taller.map({\"chileno\": 1, \"extranjero\": 0, \"mujer\": 1, \"hombre\": 0}).fillna(0).values.ravel()\n",
    "\n",
    "# Reemplazar NaN por 0 en el conjunto de entrenamiento\n",
    "X_taller = X_taller.fillna(0)\n",
    "\n",
    "# Crear objeto KFold\n",
    "kf = KFold(n_splits=5, shuffle=True, random_state=42)\n",
    "\n",
    "# Visualizar las primeras filas de los datos procesados\n",
    "print(X_taller.head())\n",
    "print(y_taller[:5])\n",
    "\n"
   ]
  },
  {
   "cell_type": "markdown",
   "id": "dca65409",
   "metadata": {},
   "source": [
    "Decidimos utilizar la validación cruzada porque nos permite evaluar cómo se comportará nuestro modelo en diferentes conjuntos de datos. Esto nos da una visión más robusta de su desempeño y nos ayuda a evitar sesgos que podrían surgir al dividir los datos en un solo conjunto de entrenamiento y prueba.\n",
    "\n",
    "Antes de aplicar la validación cruzada, nos aseguramos de que nuestros datos estuvieran limpios y listos para usar. Eliminamos columnas innecesarias, convertimos las categorías en valores numéricos y tratamos los valores faltantes para garantizar la coherencia y la integridad de nuestros datos."
   ]
  },
  {
   "cell_type": "markdown",
   "id": "f442b819-9c43-4467-a6cd-aeebd90bbe4b",
   "metadata": {},
   "source": [
    "Actividad 3"
   ]
  },
  {
   "cell_type": "markdown",
   "id": "c1a3fc93-72fd-401c-b56f-1a585fc7bf3b",
   "metadata": {},
   "source": [
    "En este caso debieran que ser 4 bloques 2 modelos y dos modificaciones de parametros para cada modelo "
   ]
  },
  {
   "cell_type": "code",
   "execution_count": 39,
   "id": "8b518c24-7647-4a46-85d5-89387bd720d1",
   "metadata": {},
   "outputs": [
    {
     "name": "stdout",
     "output_type": "stream",
     "text": [
      "Buscando el mejor clasificador para Random Forest...\n",
      "Mejor clasificador encontrado para Random Forest: {'max_depth': None, 'n_estimators': 100}\n",
      "Buscando el mejor clasificador para Decision Tree...\n",
      "Mejor clasificador encontrado para Decision Tree: {'max_depth': None}\n",
      "\n",
      "Mejor modelo encontrado: Random Forest\n",
      "Puntaje del mejor modelo: 1.0000\n",
      "Precisión en el conjunto de entrenamiento: 1.0000\n"
     ]
    }
   ],
   "source": [
    "from sklearn.ensemble import RandomForestClassifier\n",
    "from sklearn.model_selection import GridSearchCV\n",
    "import numpy as np\n",
    "from sklearn.tree import DecisionTreeClassifier\n",
    "\n",
    "# Definir los modelos y configuraciones de hiperparámetros\n",
    "models = [\n",
    "    ('Random Forest', RandomForestClassifier(),\n",
    "     {'n_estimators': [100, 200], 'max_depth': [None, 10, 20]}),\n",
    "    ('Decision Tree', DecisionTreeClassifier(),\n",
    "     {'max_depth': [None, 10, 20]})\n",
    "]\n",
    "\n",
    "# Ejecutar búsqueda del mejor clasificador para cada modelo\n",
    "best_models = {}\n",
    "for name, model, params in models:\n",
    "    print(f'Buscando el mejor clasificador para {name}...')\n",
    "    clf = GridSearchCV(model, params, cv=5, scoring='accuracy')\n",
    "    clf.fit(X_taller, y_taller)\n",
    "    best_models[name] = clf.best_estimator_\n",
    "    print(f'Mejor clasificador encontrado para {name}: {clf.best_params_}')\n",
    "\n",
    "# Seleccionar el modelo con mejor rendimiento\n",
    "best_model_name = max(best_models, key=lambda k: clf.cv_results_['mean_test_score'][clf.best_index_])\n",
    "best_model = best_models[best_model_name]\n",
    "best_score = clf.best_score_\n",
    "print(f'\\nMejor modelo encontrado: {best_model_name}')\n",
    "print(f'Puntaje del mejor modelo: {best_score:.4f}')\n",
    "\n",
    "\n",
    "# Evaluar el mejor modelo\n",
    "best_model.fit(X_taller, y_taller)\n",
    "print(f'Precisión en el conjunto de entrenamiento: {best_model.score(X_taller, y_taller):.4f}')\n"
   ]
  },
  {
   "cell_type": "markdown",
   "id": "0a682f32",
   "metadata": {},
   "source": [
    "Optamos por probar dos modelos diferentes, Random Forest y Árbol de Decisión. Seleccionamos Random Forest debido a su capacidad para manejar conjuntos de datos grandes y complejos, mientras que elegimos Árbol de Decisión por su simplicidad y facilidad de interpretación.\n",
    "\n",
    "Creemos que Random Forest es como un equipo diverso que trabaja en colaboración para tomar decisiones, mientras que el Árbol de Decisión es más como un individuo que sigue una serie de reglas predefinidas. Queríamos explorar ambas opciones para obtener una comprensión completa de cómo se comportarán nuestros modelos en nuestro problema específico."
   ]
  },
  {
   "cell_type": "markdown",
   "id": "cad064ee-0a4f-479f-8243-fb0097a4d5a5",
   "metadata": {},
   "source": [
    "Actividad 4"
   ]
  },
  {
   "cell_type": "markdown",
   "id": "808cb731-1c83-415c-8980-443d59351006",
   "metadata": {},
   "source": [
    "Aplicacion del modelo a nuevo conjunto"
   ]
  },
  {
   "cell_type": "code",
   "execution_count": 40,
   "id": "3bcbb653-a21e-41f5-969a-1bc519c56b2d",
   "metadata": {},
   "outputs": [
    {
     "ename": "NotFittedError",
     "evalue": "This DecisionTreeClassifier instance is not fitted yet. Call 'fit' with appropriate arguments before using this estimator.",
     "output_type": "error",
     "traceback": [
      "\u001b[1;31m---------------------------------------------------------------------------\u001b[0m",
      "\u001b[1;31mNotFittedError\u001b[0m                            Traceback (most recent call last)",
      "Cell \u001b[1;32mIn[40], line 13\u001b[0m\n\u001b[0;32m     10\u001b[0m X_evaluacion \u001b[38;5;241m=\u001b[39m pd\u001b[38;5;241m.\u001b[39mget_dummies(X_evaluacion)\n\u001b[0;32m     12\u001b[0m \u001b[38;5;66;03m# Hacer predicciones con el modelo cargado\u001b[39;00m\n\u001b[1;32m---> 13\u001b[0m predictions \u001b[38;5;241m=\u001b[39m \u001b[43mmodel\u001b[49m\u001b[38;5;241;43m.\u001b[39;49m\u001b[43mpredict\u001b[49m\u001b[43m(\u001b[49m\u001b[43mX_evaluacion\u001b[49m\u001b[43m)\u001b[49m\n\u001b[0;32m     15\u001b[0m \u001b[38;5;66;03m# Convertir las predicciones a etiquetas legibles\u001b[39;00m\n\u001b[0;32m     16\u001b[0m predicted_labels \u001b[38;5;241m=\u001b[39m np\u001b[38;5;241m.\u001b[39mwhere(predictions[:, \u001b[38;5;241m1\u001b[39m], \u001b[38;5;124m'\u001b[39m\u001b[38;5;124mSÍ\u001b[39m\u001b[38;5;124m'\u001b[39m, \u001b[38;5;124m'\u001b[39m\u001b[38;5;124mNO\u001b[39m\u001b[38;5;124m'\u001b[39m)  \u001b[38;5;66;03m# Si la segunda columna (índice 1) es True, entonces 'SÍ', de lo contrario 'NO'\u001b[39;00m\n",
      "File \u001b[1;32mc:\\Users\\Snail\\AppData\\Local\\Programs\\Python\\Python310\\lib\\site-packages\\sklearn\\tree\\_classes.py:528\u001b[0m, in \u001b[0;36mBaseDecisionTree.predict\u001b[1;34m(self, X, check_input)\u001b[0m\n\u001b[0;32m    505\u001b[0m \u001b[38;5;28;01mdef\u001b[39;00m \u001b[38;5;21mpredict\u001b[39m(\u001b[38;5;28mself\u001b[39m, X, check_input\u001b[38;5;241m=\u001b[39m\u001b[38;5;28;01mTrue\u001b[39;00m):\n\u001b[0;32m    506\u001b[0m \u001b[38;5;250m    \u001b[39m\u001b[38;5;124;03m\"\"\"Predict class or regression value for X.\u001b[39;00m\n\u001b[0;32m    507\u001b[0m \n\u001b[0;32m    508\u001b[0m \u001b[38;5;124;03m    For a classification model, the predicted class for each sample in X is\u001b[39;00m\n\u001b[1;32m   (...)\u001b[0m\n\u001b[0;32m    526\u001b[0m \u001b[38;5;124;03m        The predicted classes, or the predict values.\u001b[39;00m\n\u001b[0;32m    527\u001b[0m \u001b[38;5;124;03m    \"\"\"\u001b[39;00m\n\u001b[1;32m--> 528\u001b[0m     \u001b[43mcheck_is_fitted\u001b[49m\u001b[43m(\u001b[49m\u001b[38;5;28;43mself\u001b[39;49m\u001b[43m)\u001b[49m\n\u001b[0;32m    529\u001b[0m     X \u001b[38;5;241m=\u001b[39m \u001b[38;5;28mself\u001b[39m\u001b[38;5;241m.\u001b[39m_validate_X_predict(X, check_input)\n\u001b[0;32m    530\u001b[0m     proba \u001b[38;5;241m=\u001b[39m \u001b[38;5;28mself\u001b[39m\u001b[38;5;241m.\u001b[39mtree_\u001b[38;5;241m.\u001b[39mpredict(X)\n",
      "File \u001b[1;32mc:\\Users\\Snail\\AppData\\Local\\Programs\\Python\\Python310\\lib\\site-packages\\sklearn\\utils\\validation.py:1632\u001b[0m, in \u001b[0;36mcheck_is_fitted\u001b[1;34m(estimator, attributes, msg, all_or_any)\u001b[0m\n\u001b[0;32m   1629\u001b[0m     \u001b[38;5;28;01mraise\u001b[39;00m \u001b[38;5;167;01mTypeError\u001b[39;00m(\u001b[38;5;124m\"\u001b[39m\u001b[38;5;132;01m%s\u001b[39;00m\u001b[38;5;124m is not an estimator instance.\u001b[39m\u001b[38;5;124m\"\u001b[39m \u001b[38;5;241m%\u001b[39m (estimator))\n\u001b[0;32m   1631\u001b[0m \u001b[38;5;28;01mif\u001b[39;00m \u001b[38;5;129;01mnot\u001b[39;00m _is_fitted(estimator, attributes, all_or_any):\n\u001b[1;32m-> 1632\u001b[0m     \u001b[38;5;28;01mraise\u001b[39;00m NotFittedError(msg \u001b[38;5;241m%\u001b[39m {\u001b[38;5;124m\"\u001b[39m\u001b[38;5;124mname\u001b[39m\u001b[38;5;124m\"\u001b[39m: \u001b[38;5;28mtype\u001b[39m(estimator)\u001b[38;5;241m.\u001b[39m\u001b[38;5;18m__name__\u001b[39m})\n",
      "\u001b[1;31mNotFittedError\u001b[0m: This DecisionTreeClassifier instance is not fitted yet. Call 'fit' with appropriate arguments before using this estimator."
     ]
    }
   ],
   "source": [
    "import pandas as pd\n",
    "\n",
    "# Cargar los datos de evaluación\n",
    "datos_evaluacion = pd.read_csv('Taller_2_Titulacion_Evaluación.csv', encoding='latin-1', delimiter=';')\n",
    "\n",
    "# Eliminar la columna \"Id\" si es necesario\n",
    "X_evaluacion = datos_evaluacion.drop('Id', axis=1)\n",
    "\n",
    "# Convertir variables categóricas en dummies si es necesario\n",
    "X_evaluacion = pd.get_dummies(X_evaluacion)\n",
    "\n",
    "# Hacer predicciones con el modelo cargado\n",
    "predictions = model.predict(X_evaluacion)\n",
    "\n",
    "# Convertir las predicciones a etiquetas legibles\n",
    "predicted_labels = np.where(predictions[:, 1], 'SÍ', 'NO')  # Si la segunda columna (índice 1) es True, entonces 'SÍ', de lo contrario 'NO'\n",
    "\n",
    "# Crear un DataFrame con las columnas Id y Prediccion\n",
    "resultados = pd.DataFrame({'Id': datos_evaluacion['Id'], 'Prediccion': predicted_labels})\n",
    "\n",
    "# Guardar el DataFrame como un archivo de texto separado por comas\n",
    "resultados.to_csv('clasificacion_titulo.txt', index=False, sep=',', header=True)\n"
   ]
  },
  {
   "cell_type": "code",
   "execution_count": null,
   "id": "672f0c6f-71f3-4282-a0b5-3364c16d3a22",
   "metadata": {},
   "outputs": [],
   "source": []
  }
 ],
 "metadata": {
  "kernelspec": {
   "display_name": "Python 3 (ipykernel)",
   "language": "python",
   "name": "python3"
  },
  "language_info": {
   "codemirror_mode": {
    "name": "ipython",
    "version": 3
   },
   "file_extension": ".py",
   "mimetype": "text/x-python",
   "name": "python",
   "nbconvert_exporter": "python",
   "pygments_lexer": "ipython3",
   "version": "3.10.4"
  }
 },
 "nbformat": 4,
 "nbformat_minor": 5
}
