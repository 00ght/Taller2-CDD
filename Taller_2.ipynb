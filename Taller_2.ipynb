{
 "cells": [
  {
   "cell_type": "markdown",
   "id": "fe442f04-1ddd-47d6-a2a6-ac3f79b8f8b8",
   "metadata": {},
   "source": [
    "Actividad 1 "
   ]
  },
  {
   "attachments": {},
   "cell_type": "markdown",
   "id": "081f2266-3847-455e-af80-57246eae331a",
   "metadata": {},
   "source": [
    "Explicacion del preprocesamiento hecho y/o fotos del preprocesamiento del csv"
   ]
  },
  {
   "cell_type": "markdown",
   "id": "b383e324-cd03-423f-b21a-51a61083c8d9",
   "metadata": {},
   "source": [
    "Actividad 2 "
   ]
  },
  {
   "cell_type": "markdown",
   "id": "4ff445bd-6fad-4c57-8e28-201ee06d3c63",
   "metadata": {},
   "source": [
    "En este caso se usó <a href=\"https://scikit-learn.org/stable/modules/generated/sklearn.model_selection.KFold.html\">KFold</a>. Recuerde que también existe <a href=\"https://scikit-learn.org/stable/modules/generated/sklearn.model_selection.train_test_split.html\">train_test_split</a>.\n"
   ]
  },
  {
   "cell_type": "code",
   "execution_count": 178,
   "id": "48ae95bb-9df7-4906-969f-dcb8535fa386",
   "metadata": {},
   "outputs": [
    {
     "name": "stdout",
     "output_type": "stream",
     "text": [
      "Pérdida en el conjunto de prueba: 0.6929\n",
      "Precisión en el conjunto de prueba: 0.5348\n"
     ]
    }
   ],
   "source": [
    "from IPython.display import display\n",
    "import pandas as pd\n",
    "from sklearn.model_selection import train_test_split\n",
    "from tensorflow.keras.models import Sequential\n",
    "from tensorflow.keras.layers import Dense, Input\n",
    "\n",
    "# Cargar los datos desde el archivo CSV\n",
    "archivo = 'Taller_2_Titulacion_DatosTaller.csv'\n",
    "datos = pd.read_csv(archivo, encoding='latin-1', delimiter=';')\n",
    "\n",
    "# Separar las características y la variable objetivo\n",
    "X = datos.iloc[:, :-1]  \n",
    "y = datos.iloc[:, -1]\n",
    "\n",
    "# Eliminar la columna \"Id\"\n",
    "X = X.drop('Id', axis=1)\n",
    "\n",
    "# Convertir variables categóricas en dummies\n",
    "X = pd.get_dummies(X)\n",
    "\n",
    "# Convertir las etiquetas categóricas en valores numéricos\n",
    "y = pd.get_dummies(y)\n",
    "\n",
    "# Dividir los datos en conjuntos de entrenamiento y prueba\n",
    "X_train, X_test, y_train, y_test = train_test_split(X, y, test_size=0.2, random_state=42)\n",
    "\n",
    "'''\n",
    "# Mostrar las primeras filas de los conjuntos de datos\n",
    "print(\"Conjunto de entrenamiento:\")\n",
    "display(X_train.head())\n",
    "display(y_train.head())\n",
    "\n",
    "print(\"\\nConjunto de prueba:\")\n",
    "display(X_test.head())\n",
    "display(y_test.head())\n",
    "\n",
    "# Crear el modelo de red neuronal\n",
    "'''\n",
    "\n",
    "model = Sequential()\n",
    "model.add(Input(shape=(X_train.shape[1],)))  # Capa de entrada\n",
    "model.add(Dense(32, activation='relu'))\n",
    "model.add(Dense(16, activation='relu'))\n",
    "model.add(Dense(2, activation='softmax'))  # Capa de salida con dos neuronas para clasificación binaria con función softmax\n",
    "\n",
    "# Compilar el modelo\n",
    "model.compile(optimizer='adam', loss='binary_crossentropy', metrics=['accuracy'])\n",
    "\n",
    "# Entrenar el modelo\n",
    "model.fit(X_train, y_train, epochs=10, batch_size=32, verbose=0)\n",
    "\n",
    "# Evaluar el modelo\n",
    "loss, accuracy = model.evaluate(X_test, y_test, verbose=0)\n",
    "\n",
    "print(f'Pérdida en el conjunto de prueba: {loss:.4f}')\n",
    "print(f'Precisión en el conjunto de prueba: {accuracy:.4f}')\n"
   ]
  },
  {
   "cell_type": "markdown",
   "id": "dca65409",
   "metadata": {},
   "source": [
    "Decidimos utilizar la validación cruzada porque nos permite evaluar cómo se comportará nuestro modelo en diferentes conjuntos de datos. Esto nos da una visión más robusta de su desempeño y nos ayuda a evitar sesgos que podrían surgir al dividir los datos en un solo conjunto de entrenamiento y prueba.\n",
    "\n",
    "Antes de aplicar la validación cruzada, nos aseguramos de que nuestros datos estuvieran limpios y listos para usar. Eliminamos columnas innecesarias, convertimos las categorías en valores numéricos y tratamos los valores faltantes para garantizar la coherencia y la integridad de nuestros datos."
   ]
  },
  {
   "cell_type": "markdown",
   "id": "f442b819-9c43-4467-a6cd-aeebd90bbe4b",
   "metadata": {},
   "source": [
    "Actividad 3"
   ]
  },
  {
   "cell_type": "markdown",
   "id": "c1a3fc93-72fd-401c-b56f-1a585fc7bf3b",
   "metadata": {},
   "source": [
    "En este caso debieran que ser 4 bloques 2 modelos y dos modificaciones de parametros para cada modelo "
   ]
  },
  {
   "cell_type": "code",
   "execution_count": 179,
   "id": "8b518c24-7647-4a46-85d5-89387bd720d1",
   "metadata": {},
   "outputs": [
    {
     "name": "stdout",
     "output_type": "stream",
     "text": [
      "Fold accuracy: 0.6722\n",
      "[[ True False]\n",
      " [False  True]\n",
      " [False  True]\n",
      " ...\n",
      " [False  True]\n",
      " [ True False]\n",
      " [False  True]]\n",
      "Fold accuracy: 0.6540\n",
      "[[ True False]\n",
      " [ True False]\n",
      " [ True False]\n",
      " ...\n",
      " [False  True]\n",
      " [ True False]\n",
      " [False  True]]\n",
      "Fold accuracy: 0.6556\n",
      "[[ True False]\n",
      " [False  True]\n",
      " [ True False]\n",
      " ...\n",
      " [False  True]\n",
      " [False  True]\n",
      " [ True False]]\n",
      "Fold accuracy: 0.6650\n",
      "[[ True False]\n",
      " [ True False]\n",
      " [ True False]\n",
      " ...\n",
      " [False  True]\n",
      " [ True False]\n",
      " [ True False]]\n",
      "Fold accuracy: 0.6783\n",
      "[[ True False]\n",
      " [ True False]\n",
      " [False  True]\n",
      " ...\n",
      " [False  True]\n",
      " [False  True]\n",
      " [ True False]]\n",
      "\n",
      "Average accuracy: 0.6650\n"
     ]
    }
   ],
   "source": [
    "from sklearn.tree import DecisionTreeClassifier\n",
    "from sklearn.metrics import accuracy_score\n",
    "from sklearn.model_selection import KFold\n",
    "import numpy as np\n",
    "\n",
    "# Lista para almacenar las precisiones de cada fold\n",
    "accuracies = []\n",
    "\n",
    "# Aplicar K-Fold\n",
    "kf = KFold(n_splits=5, shuffle=True, random_state=42)  # Suponiendo que usamos 5 folds\n",
    "for train_index, test_index in kf.split(X):\n",
    "    X_train, X_test = X.iloc[train_index], X.iloc[test_index]\n",
    "    y_train, y_test = y.iloc[train_index], y.iloc[test_index]\n",
    "\n",
    "    # Crear el modelo\n",
    "    model = DecisionTreeClassifier()\n",
    "\n",
    "    # Entrenar el modelo\n",
    "    model.fit(X_train, y_train)\n",
    "\n",
    "    # Hacer predicciones\n",
    "    y_pred = model.predict(X_test)\n",
    "\n",
    "    # Agregar predicciones a la lista\n",
    "    accuracies.append(accuracy_score(y_test, y_pred))\n",
    "    print(f'Fold accuracy: {accuracy_score(y_test, y_pred):.4f}')\n",
    "\n",
    "    print(y_pred)\n",
    "\n",
    "# Mostrar la precisión promedio\n",
    "print(f'\\nAverage accuracy: {np.mean(accuracies):.4f}')"
   ]
  },
  {
   "cell_type": "markdown",
   "id": "0a682f32",
   "metadata": {},
   "source": [
    "Optamos por probar dos modelos diferentes, Random Forest y Árbol de Decisión. Seleccionamos Random Forest debido a su capacidad para manejar conjuntos de datos grandes y complejos, mientras que elegimos Árbol de Decisión por su simplicidad y facilidad de interpretación.\n",
    "\n",
    "Creemos que Random Forest es como un equipo diverso que trabaja en colaboración para tomar decisiones, mientras que el Árbol de Decisión es más como un individuo que sigue una serie de reglas predefinidas. Queríamos explorar ambas opciones para obtener una comprensión completa de cómo se comportarán nuestros modelos en nuestro problema específico."
   ]
  },
  {
   "cell_type": "markdown",
   "id": "cad064ee-0a4f-479f-8243-fb0097a4d5a5",
   "metadata": {},
   "source": [
    "Actividad 4"
   ]
  },
  {
   "cell_type": "markdown",
   "id": "808cb731-1c83-415c-8980-443d59351006",
   "metadata": {},
   "source": [
    "Aplicacion del modelo a nuevo conjunto"
   ]
  },
  {
   "cell_type": "code",
   "execution_count": 180,
   "id": "3bcbb653-a21e-41f5-969a-1bc519c56b2d",
   "metadata": {},
   "outputs": [],
   "source": [
    "import pandas as pd\n",
    "\n",
    "import pandas as pd\n",
    "import numpy as np\n",
    "\n",
    "# Cargar los datos de evaluación\n",
    "archivo_evaluacion = 'Taller_2_Titulacion_Evaluación.csv'\n",
    "datos_evaluacion = pd.read_csv(archivo_evaluacion, encoding='latin-1', delimiter=';')\n",
    "\n",
    "# Eliminar la columna \"Id\" si es necesario\n",
    "X_evaluacion = datos_evaluacion.drop('Id', axis=1)\n",
    "\n",
    "# Convertir variables categóricas en dummies si es necesario\n",
    "X_evaluacion = pd.get_dummies(X_evaluacion)\n",
    "\n",
    "# Asegúrate de que las columnas en X_evaluacion coincidan con las columnas en X_taller\n",
    "X_evaluacion = X_evaluacion.reindex(columns=X.columns, fill_value=0)\n",
    "\n",
    "# Hacer predicciones con el mejor modelo encontrado\n",
    "predicciones_evaluacion = model.predict(X_evaluacion)\n",
    "\n",
    "# Convertir las predicciones a etiquetas legibles\n",
    "predicted_labels = np.where(np.argmax(predicciones_evaluacion, axis=1), 'SÍ', 'NO')\n",
    "\n",
    "# Crear un DataFrame con las columnas Id y Prediccion\n",
    "resultados = pd.DataFrame({'Id': datos_evaluacion['Id'], 'Prediccion': predicted_labels})\n",
    "\n",
    "# Guardar el DataFrame como un archivo de texto separado por comas\n",
    "resultados.to_csv('clasificacion_titulo.txt', index=False, sep=',', header=False)\n"
   ]
  },
  {
   "cell_type": "code",
   "execution_count": null,
   "id": "672f0c6f-71f3-4282-a0b5-3364c16d3a22",
   "metadata": {},
   "outputs": [],
   "source": []
  }
 ],
 "metadata": {
  "kernelspec": {
   "display_name": "Python 3 (ipykernel)",
   "language": "python",
   "name": "python3"
  },
  "language_info": {
   "codemirror_mode": {
    "name": "ipython",
    "version": 3
   },
   "file_extension": ".py",
   "mimetype": "text/x-python",
   "name": "python",
   "nbconvert_exporter": "python",
   "pygments_lexer": "ipython3",
   "version": "3.10.4"
  }
 },
 "nbformat": 4,
 "nbformat_minor": 5
}
