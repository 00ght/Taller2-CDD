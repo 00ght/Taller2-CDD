{
 "cells": [
  {
   "cell_type": "markdown",
   "id": "fe442f04-1ddd-47d6-a2a6-ac3f79b8f8b8",
   "metadata": {},
   "source": [
    "Actividad 1 "
   ]
  },
  {
   "attachments": {},
   "cell_type": "markdown",
   "id": "081f2266-3847-455e-af80-57246eae331a",
   "metadata": {},
   "source": [
    "Explicacion del preprocesamiento hecho y/o fotos del preprocesamiento del csv"
   ]
  },
  {
   "cell_type": "markdown",
   "id": "b383e324-cd03-423f-b21a-51a61083c8d9",
   "metadata": {},
   "source": [
    "Actividad 2 "
   ]
  },
  {
   "cell_type": "markdown",
   "id": "4ff445bd-6fad-4c57-8e28-201ee06d3c63",
   "metadata": {},
   "source": [
    "En este caso se usó <a href=\"https://scikit-learn.org/stable/modules/generated/sklearn.model_selection.KFold.html\">KFold</a>. Recuerde que también existe <a href=\"https://scikit-learn.org/stable/modules/generated/sklearn.model_selection.train_test_split.html\">train_test_split</a>.\n"
   ]
  },
  {
   "cell_type": "code",
   "execution_count": 1,
   "id": "48ae95bb-9df7-4906-969f-dcb8535fa386",
   "metadata": {},
   "outputs": [
    {
     "name": "stdout",
     "output_type": "stream",
     "text": [
      "   MAT_1SEM_PROM  FIS_1SEM_PROM  ING_1SEM_PROM  ACTF_1SEM_A  ACTF_1SEM_R  \\\n",
      "0           55.0            0.0           79.0          1.0          0.0   \n",
      "1           56.0           57.0           88.0          0.0          0.0   \n",
      "2           55.0           64.0           55.0          0.0          0.0   \n",
      "3            0.0           56.0            0.0          0.0          0.0   \n",
      "4           87.0           82.0           86.0          0.0          0.0   \n",
      "\n",
      "   OTRANS_1SEM_A  OTRANS_1SEM_R  OTRANS_1SEM_PROM  ESP_1SEM_A  ESP_1SEM_R  \\\n",
      "0            2.0            0.0              67.0         2.0         0.0   \n",
      "1            0.0            0.0               0.0         4.0         0.0   \n",
      "2            0.0            0.0               0.0         4.0         0.0   \n",
      "3            2.0            0.0              64.0         2.0         0.0   \n",
      "4            0.0            0.0               0.0         3.0         1.0   \n",
      "\n",
      "   ...  descripcion_rama_actividad_madre_Explotación de minas y canteras  \\\n",
      "0  ...                                              False                  \n",
      "1  ...                                              False                  \n",
      "2  ...                                              False                  \n",
      "3  ...                                              False                  \n",
      "4  ...                                              False                  \n",
      "\n",
      "   descripcion_rama_actividad_madre_Ingeniería& industria& construcción& artesanía& industria de  alimentos& textiles& metalúrgica& química& calzado& etc. Construcción de  viviendas y caminos& etc. Talleres.  \\\n",
      "0                                              False                                                                                                                                                              \n",
      "1                                              False                                                                                                                                                              \n",
      "2                                              False                                                                                                                                                              \n",
      "3                                              False                                                                                                                                                              \n",
      "4                                              False                                                                                                                                                              \n",
      "\n",
      "   descripcion_rama_actividad_madre_Otros servicios personales& trabajos en hoteles& residenciales&  restaurantes& casas particulares& etc.  \\\n",
      "0                                               True                                                                                          \n",
      "1                                              False                                                                                          \n",
      "2                                              False                                                                                          \n",
      "3                                              False                                                                                          \n",
      "4                                              False                                                                                          \n",
      "\n",
      "   descripcion_rama_actividad_madre_Otros servicios públicos y privados no incluidos en los anteriores.  Tesorería& Impuestos Internos& etc.  \\\n",
      "0                                              False                                                                                           \n",
      "1                                              False                                                                                           \n",
      "2                                              False                                                                                           \n",
      "3                                              False                                                                                           \n",
      "4                                              False                                                                                           \n",
      "\n",
      "   descripcion_rama_actividad_madre_Servicios de salud públicos y privados. Ministerio de Salud e  instituciones de salud.  \\\n",
      "0                                              False                                                                         \n",
      "1                                              False                                                                         \n",
      "2                                              False                                                                         \n",
      "3                                              False                                                                         \n",
      "4                                              False                                                                         \n",
      "\n",
      "   descripcion_rama_actividad_madre_Servicios de utilidad pública& fiscales y privados. Agua& luz& gas&  Servicios Sanitarios& Municipalidades& etc  \\\n",
      "0                                              False                                                                                                  \n",
      "1                                              False                                                                                                  \n",
      "2                                              False                                                                                                  \n",
      "3                                              False                                                                                                  \n",
      "4                                              False                                                                                                  \n",
      "\n",
      "   descripcion_rama_actividad_madre_Servicios educacionales públicos y privados. Ministerio de  Educación& establecimientos educacionales de todos los niveles.  \\\n",
      "0                                              False                                                                                                              \n",
      "1                                              False                                                                                                              \n",
      "2                                              False                                                                                                              \n",
      "3                                              False                                                                                                              \n",
      "4                                              False                                                                                                              \n",
      "\n",
      "   descripcion_rama_actividad_madre_Servicios jurídicos& de orden y seguridad& Ministerio de Interior&  Justicia y Defensa& servicios jurídicos públicos y privados. FF.AA. y  Carabineros.  \\\n",
      "0                                              False                                                                                                                                          \n",
      "1                                              False                                                                                                                                          \n",
      "2                                              False                                                                                                                                          \n",
      "3                                              False                                                                                                                                          \n",
      "4                                              False                                                                                                                                          \n",
      "\n",
      "   descripcion_rama_actividad_madre_Sin datos  \\\n",
      "0                                       False   \n",
      "1                                       False   \n",
      "2                                       False   \n",
      "3                                       False   \n",
      "4                                       False   \n",
      "\n",
      "   descripcion_rama_actividad_madre_Transporte& almacenaje y comunicaciones. Transporte terrestre&  aéreo& marítimo. Comunicaciones telegráficas& telefónicas& radio y TV.  \n",
      "0                                              False                                                                                                                        \n",
      "1                                              False                                                                                                                        \n",
      "2                                              False                                                                                                                        \n",
      "3                                              False                                                                                                                        \n",
      "4                                              False                                                                                                                        \n",
      "\n",
      "[5 rows x 522 columns]\n",
      "0    0.0\n",
      "1    0.0\n",
      "2    0.0\n",
      "3    0.0\n",
      "4    0.0\n",
      "Name: Rotulo_Titulo, dtype: float64\n"
     ]
    }
   ],
   "source": [
    "import pandas as pd\n",
    "import numpy as np\n",
    "from sklearn.model_selection import KFold\n",
    "\n",
    "# Cargar los datos desde los archivos CSV\n",
    "archivo_taller = 'Taller_2_Titulacion_DatosTaller.csv'\n",
    "archivo_eval = 'Taller_2_Titulacion_Evaluación.csv'\n",
    "datos_taller = pd.read_csv(archivo_taller, encoding='latin-1', delimiter=';')\n",
    "datos_evaluacion = pd.read_csv(archivo_eval, encoding='latin-1', delimiter=';')\n",
    "\n",
    "# Separar las características y la variable objetivo\n",
    "X_taller = datos_taller.iloc[:, :-1]  \n",
    "y_taller = datos_taller.iloc[:, -1]\n",
    "\n",
    "# Eliminar la columna \"Id\" de ambos conjuntos de datos\n",
    "X_taller = X_taller.drop('Id', axis=1)\n",
    "X_evaluacion = datos_evaluacion.drop('Id', axis=1)\n",
    "\n",
    "# Convertir variables categóricas en dummies\n",
    "X_taller = pd.get_dummies(X_taller)\n",
    "X_evaluacion = pd.get_dummies(X_evaluacion)\n",
    "\n",
    "# Asegurar que las columnas coincidan en ambos conjuntos de datos\n",
    "X_taller, X_evaluacion = X_taller.align(X_evaluacion, join='left', axis=1, fill_value=0)\n",
    "\n",
    "# Convertir las etiquetas categóricas en valores binarios\n",
    "y_taller = y_taller.map({\"chileno\": 1, \"extranjero\": 0, \"mujer\": 1, \"hombre\": 0}).fillna(0)\n",
    "\n",
    "# Reemplazar NaN por 0 en el conjunto de entrenamiento\n",
    "X_taller = X_taller.fillna(0)\n",
    "X_evaluacion = X_evaluacion.fillna(0)\n",
    "\n",
    "# Crear objeto KFold\n",
    "kf = KFold(n_splits=5, shuffle=True, random_state=42)\n",
    "\n",
    "# Visualizar las primeras filas de los datos procesados\n",
    "print(X_taller.head())\n",
    "print(y_taller.head())\n"
   ]
  },
  {
   "cell_type": "markdown",
   "id": "f442b819-9c43-4467-a6cd-aeebd90bbe4b",
   "metadata": {},
   "source": [
    "Actividad 3"
   ]
  },
  {
   "cell_type": "markdown",
   "id": "c1a3fc93-72fd-401c-b56f-1a585fc7bf3b",
   "metadata": {},
   "source": [
    "En este caso debieran que ser 4 bloques 2 modelos y dos modificaciones de parametros para cada modelo "
   ]
  },
  {
   "cell_type": "code",
   "execution_count": 2,
   "id": "8b518c24-7647-4a46-85d5-89387bd720d1",
   "metadata": {},
   "outputs": [
    {
     "ename": "NameError",
     "evalue": "name 'X' is not defined",
     "output_type": "error",
     "traceback": [
      "\u001b[1;31m---------------------------------------------------------------------------\u001b[0m",
      "\u001b[1;31mNameError\u001b[0m                                 Traceback (most recent call last)",
      "Cell \u001b[1;32mIn[2], line 13\u001b[0m\n\u001b[0;32m     11\u001b[0m \u001b[38;5;66;03m# Imputar valores faltantes con la media de la columna\u001b[39;00m\n\u001b[0;32m     12\u001b[0m imputer \u001b[38;5;241m=\u001b[39m SimpleImputer(strategy\u001b[38;5;241m=\u001b[39m\u001b[38;5;124m'\u001b[39m\u001b[38;5;124mmean\u001b[39m\u001b[38;5;124m'\u001b[39m)\n\u001b[1;32m---> 13\u001b[0m X_imputed \u001b[38;5;241m=\u001b[39m imputer\u001b[38;5;241m.\u001b[39mfit_transform(\u001b[43mX\u001b[49m)\n\u001b[0;32m     15\u001b[0m \u001b[38;5;66;03m# Escalar los datos\u001b[39;00m\n\u001b[0;32m     16\u001b[0m scaler \u001b[38;5;241m=\u001b[39m StandardScaler()\n",
      "\u001b[1;31mNameError\u001b[0m: name 'X' is not defined"
     ]
    }
   ],
   "source": [
    "import pandas as pd\n",
    "import numpy as np\n",
    "from sklearn.model_selection import KFold, cross_val_score\n",
    "from sklearn.tree import DecisionTreeClassifier\n",
    "from sklearn.ensemble import RandomForestClassifier\n",
    "from sklearn.linear_model import LogisticRegression\n",
    "from sklearn.impute import SimpleImputer\n",
    "from sklearn.preprocessing import StandardScaler \n",
    "\n",
    "# Cargar los datos desde el archivo CSV\n",
    "archivo_taller = 'Taller_2_Titulacion_DatosTaller.csv'\n",
    "datos_taller = pd.read_csv(archivo_taller, encoding='latin-1', delimiter=';')\n",
    "\n",
    "# Separar las características y la variable objetivo\n",
    "X = datos_taller.iloc[:, :-1]  \n",
    "y = datos_taller.iloc[:, -1]\n",
    "\n",
    "# Eliminar la columna \"Id\"\n",
    "X = X.drop('Id', axis=1)\n",
    "\n",
    "# Convertir variables categóricas en dummies si es necesario\n",
    "X = pd.get_dummies(X)\n",
    "\n",
    "# Convertir las etiquetas categóricas en valores binarios\n",
    "y_taller = y_taller.map({\"chileno\": 1, \"extranjero\": 0, \"mujer\": 1, \"hombre\": 0}).fillna(0)\n",
    "\n",
    "# Reemplazar NaN por 0 en el conjunto de entrenamiento\n",
    "X_taller = X_taller.fillna(0)\n",
    "X_evaluacion = X_evaluacion.fillna(0)\n",
    "#------------------------------------------parte de ACT2\n",
    "\n",
    "# Imputar valores faltantes con la media de la columna\n",
    "imputer = SimpleImputer(strategy='mean')\n",
    "X_imputed = imputer.fit_transform(X)\n",
    "\n",
    "# Escalar los datos\n",
    "scaler = StandardScaler()\n",
    "X_scaled = scaler.fit_transform(X_imputed)\n",
    "\n",
    "# Imputar valores faltantes en la variable objetivo\n",
    "y_imputer = SimpleImputer(strategy='most_frequent')\n",
    "y_imputed = y_imputer.fit_transform(y.values.reshape(-1, 1)).flatten()\n",
    "\n",
    "# Crear objeto KFold\n",
    "kf = KFold(n_splits=5, shuffle=True, random_state=42)\n",
    "\n",
    "# Definir los modelos y configuraciones de hiperparámetros\n",
    "models = [\n",
    "    ('Decision Tree', DecisionTreeClassifier()),\n",
    "    ('Random Forest', RandomForestClassifier()),\n",
    "    ('Logistic Regression', LogisticRegression(max_iter=5000))\n",
    "]\n",
    "\n",
    "# Iterar sobre los modelos\n",
    "for name, model in models:\n",
    "    print(f'Modelo: {name}')\n",
    "    accuracies = []\n",
    "    for train_index, test_index in kf.split(X_imputed):\n",
    "        X_train, X_test = X_imputed[train_index], X_imputed[test_index]\n",
    "        y_train, y_test = y_imputed[train_index], y_imputed[test_index]\n",
    "\n",
    "        # Entrenar el modelo\n",
    "        model.fit(X_train, y_train)\n",
    "\n",
    "        # Evaluar el modelo\n",
    "        accuracy = cross_val_score(model, X_test, y_test, cv=5, scoring='accuracy')\n",
    "        accuracies.append(accuracy.mean())\n",
    "\n",
    "    print(f'Precisión promedio: {np.mean(accuracies):.4f}\\n')\n",
    "\n"
   ]
  },
  {
   "cell_type": "markdown",
   "id": "cad064ee-0a4f-479f-8243-fb0097a4d5a5",
   "metadata": {},
   "source": [
    "Actividad 4"
   ]
  },
  {
   "cell_type": "markdown",
   "id": "808cb731-1c83-415c-8980-443d59351006",
   "metadata": {},
   "source": [
    "Aplicacion del modelo a nuevo conjunto"
   ]
  },
  {
   "cell_type": "code",
   "execution_count": null,
   "id": "3bcbb653-a21e-41f5-969a-1bc519c56b2d",
   "metadata": {},
   "outputs": [
    {
     "name": "stderr",
     "output_type": "stream",
     "text": [
      "c:\\Users\\Snail\\AppData\\Local\\Programs\\Python\\Python310\\lib\\site-packages\\sklearn\\base.py:486: UserWarning: X has feature names, but LogisticRegression was fitted without feature names\n",
      "  warnings.warn(\n"
     ]
    },
    {
     "ename": "ValueError",
     "evalue": "Input X contains NaN.\nLogisticRegression does not accept missing values encoded as NaN natively. For supervised learning, you might want to consider sklearn.ensemble.HistGradientBoostingClassifier and Regressor which accept missing values encoded as NaNs natively. Alternatively, it is possible to preprocess the data, for instance by using an imputer transformer in a pipeline or drop samples with missing values. See https://scikit-learn.org/stable/modules/impute.html You can find a list of all estimators that handle NaN values at the following page: https://scikit-learn.org/stable/modules/impute.html#estimators-that-handle-nan-values",
     "output_type": "error",
     "traceback": [
      "\u001b[1;31m---------------------------------------------------------------------------\u001b[0m",
      "\u001b[1;31mValueError\u001b[0m                                Traceback (most recent call last)",
      "Cell \u001b[1;32mIn[65], line 13\u001b[0m\n\u001b[0;32m     10\u001b[0m X_evaluacion \u001b[38;5;241m=\u001b[39m pd\u001b[38;5;241m.\u001b[39mget_dummies(X_evaluacion)\n\u001b[0;32m     12\u001b[0m \u001b[38;5;66;03m# Hacer predicciones con el modelo cargado\u001b[39;00m\n\u001b[1;32m---> 13\u001b[0m predictions \u001b[38;5;241m=\u001b[39m \u001b[43mmodel\u001b[49m\u001b[38;5;241;43m.\u001b[39;49m\u001b[43mpredict\u001b[49m\u001b[43m(\u001b[49m\u001b[43mX_evaluacion\u001b[49m\u001b[43m)\u001b[49m\n\u001b[0;32m     15\u001b[0m \u001b[38;5;66;03m# Convertir las predicciones a etiquetas legibles\u001b[39;00m\n\u001b[0;32m     16\u001b[0m predicted_labels \u001b[38;5;241m=\u001b[39m np\u001b[38;5;241m.\u001b[39mwhere(predictions[:, \u001b[38;5;241m1\u001b[39m], \u001b[38;5;124m'\u001b[39m\u001b[38;5;124mSÍ\u001b[39m\u001b[38;5;124m'\u001b[39m, \u001b[38;5;124m'\u001b[39m\u001b[38;5;124mNO\u001b[39m\u001b[38;5;124m'\u001b[39m)  \u001b[38;5;66;03m# Si la segunda columna (índice 1) es True, entonces 'SÍ', de lo contrario 'NO'\u001b[39;00m\n",
      "File \u001b[1;32mc:\\Users\\Snail\\AppData\\Local\\Programs\\Python\\Python310\\lib\\site-packages\\sklearn\\linear_model\\_base.py:382\u001b[0m, in \u001b[0;36mLinearClassifierMixin.predict\u001b[1;34m(self, X)\u001b[0m\n\u001b[0;32m    368\u001b[0m \u001b[38;5;250m\u001b[39m\u001b[38;5;124;03m\"\"\"\u001b[39;00m\n\u001b[0;32m    369\u001b[0m \u001b[38;5;124;03mPredict class labels for samples in X.\u001b[39;00m\n\u001b[0;32m    370\u001b[0m \n\u001b[1;32m   (...)\u001b[0m\n\u001b[0;32m    379\u001b[0m \u001b[38;5;124;03m    Vector containing the class labels for each sample.\u001b[39;00m\n\u001b[0;32m    380\u001b[0m \u001b[38;5;124;03m\"\"\"\u001b[39;00m\n\u001b[0;32m    381\u001b[0m xp, _ \u001b[38;5;241m=\u001b[39m get_namespace(X)\n\u001b[1;32m--> 382\u001b[0m scores \u001b[38;5;241m=\u001b[39m \u001b[38;5;28;43mself\u001b[39;49m\u001b[38;5;241;43m.\u001b[39;49m\u001b[43mdecision_function\u001b[49m\u001b[43m(\u001b[49m\u001b[43mX\u001b[49m\u001b[43m)\u001b[49m\n\u001b[0;32m    383\u001b[0m \u001b[38;5;28;01mif\u001b[39;00m \u001b[38;5;28mlen\u001b[39m(scores\u001b[38;5;241m.\u001b[39mshape) \u001b[38;5;241m==\u001b[39m \u001b[38;5;241m1\u001b[39m:\n\u001b[0;32m    384\u001b[0m     indices \u001b[38;5;241m=\u001b[39m xp\u001b[38;5;241m.\u001b[39mastype(scores \u001b[38;5;241m>\u001b[39m \u001b[38;5;241m0\u001b[39m, indexing_dtype(xp))\n",
      "File \u001b[1;32mc:\\Users\\Snail\\AppData\\Local\\Programs\\Python\\Python310\\lib\\site-packages\\sklearn\\linear_model\\_base.py:363\u001b[0m, in \u001b[0;36mLinearClassifierMixin.decision_function\u001b[1;34m(self, X)\u001b[0m\n\u001b[0;32m    360\u001b[0m check_is_fitted(\u001b[38;5;28mself\u001b[39m)\n\u001b[0;32m    361\u001b[0m xp, _ \u001b[38;5;241m=\u001b[39m get_namespace(X)\n\u001b[1;32m--> 363\u001b[0m X \u001b[38;5;241m=\u001b[39m \u001b[38;5;28;43mself\u001b[39;49m\u001b[38;5;241;43m.\u001b[39;49m\u001b[43m_validate_data\u001b[49m\u001b[43m(\u001b[49m\u001b[43mX\u001b[49m\u001b[43m,\u001b[49m\u001b[43m \u001b[49m\u001b[43maccept_sparse\u001b[49m\u001b[38;5;241;43m=\u001b[39;49m\u001b[38;5;124;43m\"\u001b[39;49m\u001b[38;5;124;43mcsr\u001b[39;49m\u001b[38;5;124;43m\"\u001b[39;49m\u001b[43m,\u001b[49m\u001b[43m \u001b[49m\u001b[43mreset\u001b[49m\u001b[38;5;241;43m=\u001b[39;49m\u001b[38;5;28;43;01mFalse\u001b[39;49;00m\u001b[43m)\u001b[49m\n\u001b[0;32m    364\u001b[0m scores \u001b[38;5;241m=\u001b[39m safe_sparse_dot(X, \u001b[38;5;28mself\u001b[39m\u001b[38;5;241m.\u001b[39mcoef_\u001b[38;5;241m.\u001b[39mT, dense_output\u001b[38;5;241m=\u001b[39m\u001b[38;5;28;01mTrue\u001b[39;00m) \u001b[38;5;241m+\u001b[39m \u001b[38;5;28mself\u001b[39m\u001b[38;5;241m.\u001b[39mintercept_\n\u001b[0;32m    365\u001b[0m \u001b[38;5;28;01mreturn\u001b[39;00m xp\u001b[38;5;241m.\u001b[39mreshape(scores, (\u001b[38;5;241m-\u001b[39m\u001b[38;5;241m1\u001b[39m,)) \u001b[38;5;28;01mif\u001b[39;00m scores\u001b[38;5;241m.\u001b[39mshape[\u001b[38;5;241m1\u001b[39m] \u001b[38;5;241m==\u001b[39m \u001b[38;5;241m1\u001b[39m \u001b[38;5;28;01melse\u001b[39;00m scores\n",
      "File \u001b[1;32mc:\\Users\\Snail\\AppData\\Local\\Programs\\Python\\Python310\\lib\\site-packages\\sklearn\\base.py:633\u001b[0m, in \u001b[0;36mBaseEstimator._validate_data\u001b[1;34m(self, X, y, reset, validate_separately, cast_to_ndarray, **check_params)\u001b[0m\n\u001b[0;32m    631\u001b[0m         out \u001b[38;5;241m=\u001b[39m X, y\n\u001b[0;32m    632\u001b[0m \u001b[38;5;28;01melif\u001b[39;00m \u001b[38;5;129;01mnot\u001b[39;00m no_val_X \u001b[38;5;129;01mand\u001b[39;00m no_val_y:\n\u001b[1;32m--> 633\u001b[0m     out \u001b[38;5;241m=\u001b[39m check_array(X, input_name\u001b[38;5;241m=\u001b[39m\u001b[38;5;124m\"\u001b[39m\u001b[38;5;124mX\u001b[39m\u001b[38;5;124m\"\u001b[39m, \u001b[38;5;241m*\u001b[39m\u001b[38;5;241m*\u001b[39mcheck_params)\n\u001b[0;32m    634\u001b[0m \u001b[38;5;28;01melif\u001b[39;00m no_val_X \u001b[38;5;129;01mand\u001b[39;00m \u001b[38;5;129;01mnot\u001b[39;00m no_val_y:\n\u001b[0;32m    635\u001b[0m     out \u001b[38;5;241m=\u001b[39m _check_y(y, \u001b[38;5;241m*\u001b[39m\u001b[38;5;241m*\u001b[39mcheck_params)\n",
      "File \u001b[1;32mc:\\Users\\Snail\\AppData\\Local\\Programs\\Python\\Python310\\lib\\site-packages\\sklearn\\utils\\validation.py:1059\u001b[0m, in \u001b[0;36mcheck_array\u001b[1;34m(array, accept_sparse, accept_large_sparse, dtype, order, copy, force_all_finite, ensure_2d, allow_nd, ensure_min_samples, ensure_min_features, estimator, input_name)\u001b[0m\n\u001b[0;32m   1053\u001b[0m     \u001b[38;5;28;01mraise\u001b[39;00m \u001b[38;5;167;01mValueError\u001b[39;00m(\n\u001b[0;32m   1054\u001b[0m         \u001b[38;5;124m\"\u001b[39m\u001b[38;5;124mFound array with dim \u001b[39m\u001b[38;5;132;01m%d\u001b[39;00m\u001b[38;5;124m. \u001b[39m\u001b[38;5;132;01m%s\u001b[39;00m\u001b[38;5;124m expected <= 2.\u001b[39m\u001b[38;5;124m\"\u001b[39m\n\u001b[0;32m   1055\u001b[0m         \u001b[38;5;241m%\u001b[39m (array\u001b[38;5;241m.\u001b[39mndim, estimator_name)\n\u001b[0;32m   1056\u001b[0m     )\n\u001b[0;32m   1058\u001b[0m \u001b[38;5;28;01mif\u001b[39;00m force_all_finite:\n\u001b[1;32m-> 1059\u001b[0m     \u001b[43m_assert_all_finite\u001b[49m\u001b[43m(\u001b[49m\n\u001b[0;32m   1060\u001b[0m \u001b[43m        \u001b[49m\u001b[43marray\u001b[49m\u001b[43m,\u001b[49m\n\u001b[0;32m   1061\u001b[0m \u001b[43m        \u001b[49m\u001b[43minput_name\u001b[49m\u001b[38;5;241;43m=\u001b[39;49m\u001b[43minput_name\u001b[49m\u001b[43m,\u001b[49m\n\u001b[0;32m   1062\u001b[0m \u001b[43m        \u001b[49m\u001b[43mestimator_name\u001b[49m\u001b[38;5;241;43m=\u001b[39;49m\u001b[43mestimator_name\u001b[49m\u001b[43m,\u001b[49m\n\u001b[0;32m   1063\u001b[0m \u001b[43m        \u001b[49m\u001b[43mallow_nan\u001b[49m\u001b[38;5;241;43m=\u001b[39;49m\u001b[43mforce_all_finite\u001b[49m\u001b[43m \u001b[49m\u001b[38;5;241;43m==\u001b[39;49m\u001b[43m \u001b[49m\u001b[38;5;124;43m\"\u001b[39;49m\u001b[38;5;124;43mallow-nan\u001b[39;49m\u001b[38;5;124;43m\"\u001b[39;49m\u001b[43m,\u001b[49m\n\u001b[0;32m   1064\u001b[0m \u001b[43m    \u001b[49m\u001b[43m)\u001b[49m\n\u001b[0;32m   1066\u001b[0m \u001b[38;5;28;01mif\u001b[39;00m copy:\n\u001b[0;32m   1067\u001b[0m     \u001b[38;5;28;01mif\u001b[39;00m _is_numpy_namespace(xp):\n\u001b[0;32m   1068\u001b[0m         \u001b[38;5;66;03m# only make a copy if `array` and `array_orig` may share memory`\u001b[39;00m\n",
      "File \u001b[1;32mc:\\Users\\Snail\\AppData\\Local\\Programs\\Python\\Python310\\lib\\site-packages\\sklearn\\utils\\validation.py:126\u001b[0m, in \u001b[0;36m_assert_all_finite\u001b[1;34m(X, allow_nan, msg_dtype, estimator_name, input_name)\u001b[0m\n\u001b[0;32m    123\u001b[0m \u001b[38;5;28;01mif\u001b[39;00m first_pass_isfinite:\n\u001b[0;32m    124\u001b[0m     \u001b[38;5;28;01mreturn\u001b[39;00m\n\u001b[1;32m--> 126\u001b[0m \u001b[43m_assert_all_finite_element_wise\u001b[49m\u001b[43m(\u001b[49m\n\u001b[0;32m    127\u001b[0m \u001b[43m    \u001b[49m\u001b[43mX\u001b[49m\u001b[43m,\u001b[49m\n\u001b[0;32m    128\u001b[0m \u001b[43m    \u001b[49m\u001b[43mxp\u001b[49m\u001b[38;5;241;43m=\u001b[39;49m\u001b[43mxp\u001b[49m\u001b[43m,\u001b[49m\n\u001b[0;32m    129\u001b[0m \u001b[43m    \u001b[49m\u001b[43mallow_nan\u001b[49m\u001b[38;5;241;43m=\u001b[39;49m\u001b[43mallow_nan\u001b[49m\u001b[43m,\u001b[49m\n\u001b[0;32m    130\u001b[0m \u001b[43m    \u001b[49m\u001b[43mmsg_dtype\u001b[49m\u001b[38;5;241;43m=\u001b[39;49m\u001b[43mmsg_dtype\u001b[49m\u001b[43m,\u001b[49m\n\u001b[0;32m    131\u001b[0m \u001b[43m    \u001b[49m\u001b[43mestimator_name\u001b[49m\u001b[38;5;241;43m=\u001b[39;49m\u001b[43mestimator_name\u001b[49m\u001b[43m,\u001b[49m\n\u001b[0;32m    132\u001b[0m \u001b[43m    \u001b[49m\u001b[43minput_name\u001b[49m\u001b[38;5;241;43m=\u001b[39;49m\u001b[43minput_name\u001b[49m\u001b[43m,\u001b[49m\n\u001b[0;32m    133\u001b[0m \u001b[43m\u001b[49m\u001b[43m)\u001b[49m\n",
      "File \u001b[1;32mc:\\Users\\Snail\\AppData\\Local\\Programs\\Python\\Python310\\lib\\site-packages\\sklearn\\utils\\validation.py:175\u001b[0m, in \u001b[0;36m_assert_all_finite_element_wise\u001b[1;34m(X, xp, allow_nan, msg_dtype, estimator_name, input_name)\u001b[0m\n\u001b[0;32m    158\u001b[0m \u001b[38;5;28;01mif\u001b[39;00m estimator_name \u001b[38;5;129;01mand\u001b[39;00m input_name \u001b[38;5;241m==\u001b[39m \u001b[38;5;124m\"\u001b[39m\u001b[38;5;124mX\u001b[39m\u001b[38;5;124m\"\u001b[39m \u001b[38;5;129;01mand\u001b[39;00m has_nan_error:\n\u001b[0;32m    159\u001b[0m     \u001b[38;5;66;03m# Improve the error message on how to handle missing values in\u001b[39;00m\n\u001b[0;32m    160\u001b[0m     \u001b[38;5;66;03m# scikit-learn.\u001b[39;00m\n\u001b[0;32m    161\u001b[0m     msg_err \u001b[38;5;241m+\u001b[39m\u001b[38;5;241m=\u001b[39m (\n\u001b[0;32m    162\u001b[0m         \u001b[38;5;124mf\u001b[39m\u001b[38;5;124m\"\u001b[39m\u001b[38;5;130;01m\\n\u001b[39;00m\u001b[38;5;132;01m{\u001b[39;00mestimator_name\u001b[38;5;132;01m}\u001b[39;00m\u001b[38;5;124m does not accept missing values\u001b[39m\u001b[38;5;124m\"\u001b[39m\n\u001b[0;32m    163\u001b[0m         \u001b[38;5;124m\"\u001b[39m\u001b[38;5;124m encoded as NaN natively. For supervised learning, you might want\u001b[39m\u001b[38;5;124m\"\u001b[39m\n\u001b[1;32m   (...)\u001b[0m\n\u001b[0;32m    173\u001b[0m         \u001b[38;5;124m\"\u001b[39m\u001b[38;5;124m#estimators-that-handle-nan-values\u001b[39m\u001b[38;5;124m\"\u001b[39m\n\u001b[0;32m    174\u001b[0m     )\n\u001b[1;32m--> 175\u001b[0m \u001b[38;5;28;01mraise\u001b[39;00m \u001b[38;5;167;01mValueError\u001b[39;00m(msg_err)\n",
      "\u001b[1;31mValueError\u001b[0m: Input X contains NaN.\nLogisticRegression does not accept missing values encoded as NaN natively. For supervised learning, you might want to consider sklearn.ensemble.HistGradientBoostingClassifier and Regressor which accept missing values encoded as NaNs natively. Alternatively, it is possible to preprocess the data, for instance by using an imputer transformer in a pipeline or drop samples with missing values. See https://scikit-learn.org/stable/modules/impute.html You can find a list of all estimators that handle NaN values at the following page: https://scikit-learn.org/stable/modules/impute.html#estimators-that-handle-nan-values"
     ]
    }
   ],
   "source": [
    "import pandas as pd\n",
    "\n",
    "# Cargar los datos de evaluación\n",
    "datos_evaluacion = pd.read_csv('Taller_2_Titulacion_Evaluación.csv', encoding='latin-1', delimiter=';')\n",
    "\n",
    "# Eliminar la columna \"Id\" si es necesario\n",
    "X_evaluacion = datos_evaluacion.drop('Id', axis=1)\n",
    "\n",
    "# Convertir variables categóricas en dummies si es necesario\n",
    "X_evaluacion = pd.get_dummies(X_evaluacion)\n",
    "\n",
    "# Hacer predicciones con el modelo cargado\n",
    "predictions = model.predict(X_evaluacion)\n",
    "\n",
    "# Convertir las predicciones a etiquetas legibles\n",
    "predicted_labels = np.where(predictions[:, 1], 'SÍ', 'NO')  # Si la segunda columna (índice 1) es True, entonces 'SÍ', de lo contrario 'NO'\n",
    "\n",
    "# Crear un DataFrame con las columnas Id y Prediccion\n",
    "resultados = pd.DataFrame({'Id': datos_evaluacion['Id'], 'Prediccion': predicted_labels})\n",
    "\n",
    "# Guardar el DataFrame como un archivo de texto separado por comas\n",
    "resultados.to_csv('clasificacion_titulo.txt', index=False, sep=',', header=True)\n"
   ]
  },
  {
   "cell_type": "code",
   "execution_count": null,
   "id": "672f0c6f-71f3-4282-a0b5-3364c16d3a22",
   "metadata": {},
   "outputs": [],
   "source": []
  }
 ],
 "metadata": {
  "kernelspec": {
   "display_name": "Python 3 (ipykernel)",
   "language": "python",
   "name": "python3"
  },
  "language_info": {
   "codemirror_mode": {
    "name": "ipython",
    "version": 3
   },
   "file_extension": ".py",
   "mimetype": "text/x-python",
   "name": "python",
   "nbconvert_exporter": "python",
   "pygments_lexer": "ipython3",
   "version": "3.10.4"
  }
 },
 "nbformat": 4,
 "nbformat_minor": 5
}
