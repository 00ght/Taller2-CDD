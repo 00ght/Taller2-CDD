{
 "cells": [
  {
   "cell_type": "markdown",
   "id": "fe442f04-1ddd-47d6-a2a6-ac3f79b8f8b8",
   "metadata": {},
   "source": [
    "Actividad 1 "
   ]
  },
  {
   "attachments": {},
   "cell_type": "markdown",
   "id": "081f2266-3847-455e-af80-57246eae331a",
   "metadata": {},
   "source": [
    "Explicacion del preprocesamiento hecho y/o fotos del preprocesamiento del csv"
   ]
  },
  {
   "cell_type": "markdown",
   "id": "b383e324-cd03-423f-b21a-51a61083c8d9",
   "metadata": {},
   "source": [
    "Actividad 2 "
   ]
  },
  {
   "cell_type": "markdown",
   "id": "4ff445bd-6fad-4c57-8e28-201ee06d3c63",
   "metadata": {},
   "source": [
    "En este caso se usó <a href=\"https://scikit-learn.org/stable/modules/generated/sklearn.model_selection.KFold.html\">KFold</a>. Recuerde que también existe <a href=\"https://scikit-learn.org/stable/modules/generated/sklearn.model_selection.train_test_split.html\">train_test_split</a>.\n"
   ]
  },
  {
   "cell_type": "code",
   "execution_count": 7,
   "id": "48ae95bb-9df7-4906-969f-dcb8535fa386",
   "metadata": {},
   "outputs": [
    {
     "name": "stdout",
     "output_type": "stream",
     "text": [
      "   MAT_1SEM_PROM  FIS_1SEM_PROM  ING_1SEM_PROM  ACTF_1SEM_A  ACTF_1SEM_R  \\\n",
      "0           70.0           71.0           59.0          1.0          0.0   \n",
      "1            0.0           34.0            0.0          0.0          0.0   \n",
      "2           61.0           65.0           71.0          0.0          1.0   \n",
      "3            0.0           55.0           86.0          1.0          0.0   \n",
      "4           52.0            0.0            0.0          0.0          0.0   \n",
      "\n",
      "   OTRANS_1SEM_A  OTRANS_1SEM_R  OTRANS_1SEM_PROM  ESP_1SEM_A  ESP_1SEM_R  \\\n",
      "0            0.0            0.0               0.0         3.0         0.0   \n",
      "1            1.0            1.0              60.0         1.0         0.0   \n",
      "2            0.0            0.0               0.0         3.0         0.0   \n",
      "3            0.0            0.0               0.0         2.0         1.0   \n",
      "4            2.0            0.0              65.0         2.0         1.0   \n",
      "\n",
      "   ...  descripcion_rama_actividad_madre_Dueno de casa.  \\\n",
      "0  ...                                            False   \n",
      "1  ...                                             True   \n",
      "2  ...                                             True   \n",
      "3  ...                                            False   \n",
      "4  ...                                             True   \n",
      "\n",
      "   descripcion_rama_actividad_madre_Ingeniería& industria& construcción& artesanía& industria de  alimentos& textiles& metalúrgica& química& calzado& etc. Construcción de  viviendas y caminos& etc. Talleres.  \\\n",
      "0                                              False                                                                                                                                                              \n",
      "1                                              False                                                                                                                                                              \n",
      "2                                              False                                                                                                                                                              \n",
      "3                                              False                                                                                                                                                              \n",
      "4                                              False                                                                                                                                                              \n",
      "\n",
      "   descripcion_rama_actividad_madre_Otros servicios personales& trabajos en hoteles& residenciales&  restaurantes& casas particulares& etc.  \\\n",
      "0                                              False                                                                                          \n",
      "1                                              False                                                                                          \n",
      "2                                              False                                                                                          \n",
      "3                                               True                                                                                          \n",
      "4                                              False                                                                                          \n",
      "\n",
      "   descripcion_rama_actividad_madre_Otros servicios públicos y privados no incluidos en los anteriores.  Tesorería& Impuestos Internos& etc.  \\\n",
      "0                                               True                                                                                           \n",
      "1                                              False                                                                                           \n",
      "2                                              False                                                                                           \n",
      "3                                              False                                                                                           \n",
      "4                                              False                                                                                           \n",
      "\n",
      "   descripcion_rama_actividad_madre_Servicios de salud públicos y privados. Ministerio de Salud e  instituciones de salud.  \\\n",
      "0                                              False                                                                         \n",
      "1                                              False                                                                         \n",
      "2                                              False                                                                         \n",
      "3                                              False                                                                         \n",
      "4                                              False                                                                         \n",
      "\n",
      "   descripcion_rama_actividad_madre_Servicios de utilidad pública& fiscales y privados. Agua& luz& gas&  Servicios Sanitarios& Municipalidades& etc  \\\n",
      "0                                              False                                                                                                  \n",
      "1                                              False                                                                                                  \n",
      "2                                              False                                                                                                  \n",
      "3                                              False                                                                                                  \n",
      "4                                              False                                                                                                  \n",
      "\n",
      "   descripcion_rama_actividad_madre_Servicios educacionales públicos y privados. Ministerio de  Educación& establecimientos educacionales de todos los niveles.  \\\n",
      "0                                              False                                                                                                              \n",
      "1                                              False                                                                                                              \n",
      "2                                              False                                                                                                              \n",
      "3                                              False                                                                                                              \n",
      "4                                              False                                                                                                              \n",
      "\n",
      "   descripcion_rama_actividad_madre_Servicios jurídicos& de orden y seguridad& Ministerio de Interior&  Justicia y Defensa& servicios jurídicos públicos y privados. FF.AA. y  Carabineros.  \\\n",
      "0                                              False                                                                                                                                          \n",
      "1                                              False                                                                                                                                          \n",
      "2                                              False                                                                                                                                          \n",
      "3                                              False                                                                                                                                          \n",
      "4                                              False                                                                                                                                          \n",
      "\n",
      "   descripcion_rama_actividad_madre_Sin datos  \\\n",
      "0                                       False   \n",
      "1                                       False   \n",
      "2                                       False   \n",
      "3                                       False   \n",
      "4                                       False   \n",
      "\n",
      "   descripcion_rama_actividad_madre_Transporte& almacenaje y comunicaciones. Transporte terrestre&  aéreo& marítimo. Comunicaciones telegráficas& telefónicas& radio y TV.  \n",
      "0                                              False                                                                                                                        \n",
      "1                                              False                                                                                                                        \n",
      "2                                              False                                                                                                                        \n",
      "3                                              False                                                                                                                        \n",
      "4                                              False                                                                                                                        \n",
      "\n",
      "[5 rows x 409 columns]\n",
      "0    0.0\n",
      "1    0.0\n",
      "2    0.0\n",
      "3    0.0\n",
      "4    0.0\n",
      "Name: ptje_cien, dtype: float64\n"
     ]
    }
   ],
   "source": [
    "import pandas as pd\n",
    "import numpy as np\n",
    "from sklearn.model_selection import KFold\n",
    "\n",
    "# Cargar los datos desde los archivos CSV\n",
    "archivo_taller = 'Taller_2_Titulacion_DatosTaller.csv'\n",
    "datos_taller = pd.read_csv(archivo_eval, encoding='latin-1', delimiter=';')\n",
    "\n",
    "# Separar las características y la variable objetivo\n",
    "X_taller = datos_taller.iloc[:, :-1]  \n",
    "y_taller= datos_taller.iloc[:, -1]\n",
    "\n",
    "# Eliminar la columna \"Id\" de ambos conjuntos de datos\n",
    "X_taller = datos_taller.drop('Id', axis=1)\n",
    "\n",
    "# Convertir variables categóricas en dummies\n",
    "X_taller = pd.get_dummies(X_taller)\n",
    "\n",
    "# Convertir las etiquetas categóricas en valores binarios\n",
    "y_taller = y_taller.map({\"chileno\": 1, \"extranjero\": 0, \"mujer\": 1, \"hombre\": 0}).fillna(0)\n",
    "\n",
    "# Reemplazar NaN por 0 en el conjunto de entrenamiento\n",
    "X_taller = X_taller.fillna(0)\n",
    "\n",
    "# Crear objeto KFold\n",
    "kf = KFold(n_splits=5, shuffle=True, random_state=42)\n",
    "\n",
    "# Visualizar las primeras filas de los datos procesados\n",
    "print(X_taller.head())\n",
    "print(y_taller.head())\n"
   ]
  },
  {
   "cell_type": "markdown",
   "id": "f442b819-9c43-4467-a6cd-aeebd90bbe4b",
   "metadata": {},
   "source": [
    "Actividad 3"
   ]
  },
  {
   "cell_type": "markdown",
   "id": "c1a3fc93-72fd-401c-b56f-1a585fc7bf3b",
   "metadata": {},
   "source": [
    "En este caso debieran que ser 4 bloques 2 modelos y dos modificaciones de parametros para cada modelo "
   ]
  },
  {
   "cell_type": "code",
   "execution_count": 8,
   "id": "8b518c24-7647-4a46-85d5-89387bd720d1",
   "metadata": {},
   "outputs": [],
   "source": [
    "import pandas as pd\n",
    "import numpy as np\n",
    "from sklearn.model_selection import KFold, cross_val_score\n",
    "from sklearn.tree import DecisionTreeClassifier\n",
    "from sklearn.ensemble import RandomForestClassifier\n",
    "from sklearn.impute import SimpleImputer\n",
    "from sklearn.preprocessing import StandardScaler\n",
    "\n",
    "archivo_taller = 'Taller_2_Titulacion_DatosTaller.csv'\n",
    "datos_taller = pd.read_csv(archivo_taller, encoding='latin-1', delimiter=';')\n"
   ]
  },
  {
   "cell_type": "markdown",
   "id": "cad064ee-0a4f-479f-8243-fb0097a4d5a5",
   "metadata": {},
   "source": [
    "Actividad 4"
   ]
  },
  {
   "cell_type": "markdown",
   "id": "808cb731-1c83-415c-8980-443d59351006",
   "metadata": {},
   "source": [
    "Aplicacion del modelo a nuevo conjunto"
   ]
  },
  {
   "cell_type": "code",
   "execution_count": 9,
   "id": "3bcbb653-a21e-41f5-969a-1bc519c56b2d",
   "metadata": {},
   "outputs": [
    {
     "ename": "NameError",
     "evalue": "name 'model' is not defined",
     "output_type": "error",
     "traceback": [
      "\u001b[1;31m---------------------------------------------------------------------------\u001b[0m",
      "\u001b[1;31mNameError\u001b[0m                                 Traceback (most recent call last)",
      "Cell \u001b[1;32mIn[9], line 13\u001b[0m\n\u001b[0;32m     10\u001b[0m X_evaluacion \u001b[38;5;241m=\u001b[39m pd\u001b[38;5;241m.\u001b[39mget_dummies(X_evaluacion)\n\u001b[0;32m     12\u001b[0m \u001b[38;5;66;03m# Hacer predicciones con el modelo cargado\u001b[39;00m\n\u001b[1;32m---> 13\u001b[0m predictions \u001b[38;5;241m=\u001b[39m \u001b[43mmodel\u001b[49m\u001b[38;5;241m.\u001b[39mpredict(X_evaluacion)\n\u001b[0;32m     15\u001b[0m \u001b[38;5;66;03m# Convertir las predicciones a etiquetas legibles\u001b[39;00m\n\u001b[0;32m     16\u001b[0m predicted_labels \u001b[38;5;241m=\u001b[39m np\u001b[38;5;241m.\u001b[39mwhere(predictions[:, \u001b[38;5;241m1\u001b[39m], \u001b[38;5;124m'\u001b[39m\u001b[38;5;124mSÍ\u001b[39m\u001b[38;5;124m'\u001b[39m, \u001b[38;5;124m'\u001b[39m\u001b[38;5;124mNO\u001b[39m\u001b[38;5;124m'\u001b[39m)  \u001b[38;5;66;03m# Si la segunda columna (índice 1) es True, entonces 'SÍ', de lo contrario 'NO'\u001b[39;00m\n",
      "\u001b[1;31mNameError\u001b[0m: name 'model' is not defined"
     ]
    }
   ],
   "source": [
    "import pandas as pd\n",
    "\n",
    "# Cargar los datos de evaluación\n",
    "datos_evaluacion = pd.read_csv('Taller_2_Titulacion_Evaluación.csv', encoding='latin-1', delimiter=';')\n",
    "\n",
    "# Eliminar la columna \"Id\" si es necesario\n",
    "X_evaluacion = datos_evaluacion.drop('Id', axis=1)\n",
    "\n",
    "# Convertir variables categóricas en dummies si es necesario\n",
    "X_evaluacion = pd.get_dummies(X_evaluacion)\n",
    "\n",
    "# Hacer predicciones con el modelo cargado\n",
    "predictions = model.predict(X_evaluacion)\n",
    "\n",
    "# Convertir las predicciones a etiquetas legibles\n",
    "predicted_labels = np.where(predictions[:, 1], 'SÍ', 'NO')  # Si la segunda columna (índice 1) es True, entonces 'SÍ', de lo contrario 'NO'\n",
    "\n",
    "# Crear un DataFrame con las columnas Id y Prediccion\n",
    "resultados = pd.DataFrame({'Id': datos_evaluacion['Id'], 'Prediccion': predicted_labels})\n",
    "\n",
    "# Guardar el DataFrame como un archivo de texto separado por comas\n",
    "resultados.to_csv('clasificacion_titulo.txt', index=False, sep=',', header=True)\n"
   ]
  },
  {
   "cell_type": "code",
   "execution_count": null,
   "id": "672f0c6f-71f3-4282-a0b5-3364c16d3a22",
   "metadata": {},
   "outputs": [],
   "source": []
  }
 ],
 "metadata": {
  "kernelspec": {
   "display_name": "Python 3 (ipykernel)",
   "language": "python",
   "name": "python3"
  },
  "language_info": {
   "codemirror_mode": {
    "name": "ipython",
    "version": 3
   },
   "file_extension": ".py",
   "mimetype": "text/x-python",
   "name": "python",
   "nbconvert_exporter": "python",
   "pygments_lexer": "ipython3",
   "version": "3.10.4"
  }
 },
 "nbformat": 4,
 "nbformat_minor": 5
}
